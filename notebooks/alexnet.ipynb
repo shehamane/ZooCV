{
 "cells": [
  {
   "metadata": {
    "ExecuteTime": {
     "end_time": "2024-09-12T19:12:44.037813Z",
     "start_time": "2024-09-12T19:12:44.023108Z"
    }
   },
   "cell_type": "code",
   "source": [
    "%load_ext autoreload\n",
    "%autoreload 2"
   ],
   "id": "b68f3323ad529837",
   "outputs": [],
   "execution_count": 1
  },
  {
   "metadata": {},
   "cell_type": "markdown",
   "source": "# Animals-10",
   "id": "6f5b012abb7e1e1e"
  },
  {
   "metadata": {
    "ExecuteTime": {
     "end_time": "2024-08-25T09:54:39.470261Z",
     "start_time": "2024-08-25T09:54:36.165068Z"
    }
   },
   "cell_type": "code",
   "source": [
    "from data.animals10 import Animals10\n",
    "from torchvision import transforms\n",
    "\n",
    "dataset = Animals10(src='/home/kurikuri/Projects/Datasets/Animals-10/',\n",
    "                    root='../dataset/animals10',\n",
    "                    prepare=False,\n",
    "                    transform=(\n",
    "                        transforms.ToTensor(),\n",
    "                        transforms.Resize((224, 224))\n",
    "                    ))"
   ],
   "id": "e51b27975eeea13c",
   "outputs": [],
   "execution_count": 2
  },
  {
   "metadata": {
    "ExecuteTime": {
     "end_time": "2024-08-25T09:54:39.493740Z",
     "start_time": "2024-08-25T09:54:39.471457Z"
    }
   },
   "cell_type": "code",
   "source": "len(dataset)",
   "id": "fac0424cf87f0c6f",
   "outputs": [
    {
     "data": {
      "text/plain": [
       "26179"
      ]
     },
     "execution_count": 3,
     "metadata": {},
     "output_type": "execute_result"
    }
   ],
   "execution_count": 3
  },
  {
   "metadata": {
    "ExecuteTime": {
     "end_time": "2024-08-25T09:54:39.518818Z",
     "start_time": "2024-08-25T09:54:39.496103Z"
    }
   },
   "cell_type": "code",
   "source": [
    "from torch.utils.data import random_split\n",
    "\n",
    "train_size = int(0.8 * len(dataset))\n",
    "test_size = len(dataset) - train_size\n",
    "train_dataset, test_dataset = random_split(dataset, [train_size, test_size])"
   ],
   "id": "fca53ab461e7983b",
   "outputs": [],
   "execution_count": 4
  },
  {
   "metadata": {
    "ExecuteTime": {
     "end_time": "2024-08-25T09:54:39.634113Z",
     "start_time": "2024-08-25T09:54:39.520670Z"
    }
   },
   "cell_type": "code",
   "source": [
    "import torch\n",
    "\n",
    "print(torch.cuda.is_available())\n",
    "print(torch.cuda.get_device_name())"
   ],
   "id": "cc2fe90b817e08f6",
   "outputs": [
    {
     "name": "stdout",
     "output_type": "stream",
     "text": [
      "True\n",
      "NVIDIA GeForce GTX 1070 Ti\n"
     ]
    }
   ],
   "execution_count": 5
  },
  {
   "metadata": {
    "ExecuteTime": {
     "end_time": "2024-08-25T09:54:39.665316Z",
     "start_time": "2024-08-25T09:54:39.635365Z"
    }
   },
   "cell_type": "code",
   "source": [
    "from torch.utils.data import DataLoader\n",
    "\n",
    "batch_size = 64\n",
    "train_loader = DataLoader(dataset=train_dataset, batch_size=batch_size, shuffle=True)\n",
    "test_loader = DataLoader(dataset=test_dataset, batch_size=batch_size, shuffle=True)"
   ],
   "id": "609c66e76a5c4096",
   "outputs": [],
   "execution_count": 6
  },
  {
   "metadata": {
    "ExecuteTime": {
     "end_time": "2024-08-25T09:54:40.496331Z",
     "start_time": "2024-08-25T09:54:39.666784Z"
    }
   },
   "cell_type": "code",
   "source": [
    "from model.alexnet import AlexNet\n",
    "from torch.optim import Adam\n",
    "from torch.optim.lr_scheduler import ExponentialLR\n",
    "from torch.nn import CrossEntropyLoss\n",
    "from evaluation.metrics import Metric\n",
    "from evaluation.eval import ClassificationEvaluator\n",
    "\n",
    "model = AlexNet('../config/alexnet.yaml', 10)\n",
    "optimizer = Adam(model.parameters(), lr=1e-3, betas=(0.9, 0.98), eps=1e-9)\n",
    "scheduler = ExponentialLR(optimizer, gamma=0.9)\n",
    "loss_fn = CrossEntropyLoss()\n",
    "metrics = [Metric.Accuracy, ]\n",
    "evaluator = ClassificationEvaluator(metrics)"
   ],
   "id": "6fe49b957560ab88",
   "outputs": [],
   "execution_count": 7
  },
  {
   "metadata": {
    "ExecuteTime": {
     "end_time": "2024-08-25T09:54:40.641464Z",
     "start_time": "2024-08-25T09:54:40.497679Z"
    }
   },
   "cell_type": "code",
   "source": [
    "from trainer.supervised import SimpleTrainer\n",
    "\n",
    "trainer = SimpleTrainer(model, train_loader, test_loader, loss_fn, optimizer, evaluator, eval_freq=1000)"
   ],
   "id": "3a708f85eb362e65",
   "outputs": [],
   "execution_count": 8
  },
  {
   "metadata": {
    "ExecuteTime": {
     "end_time": "2024-08-25T11:40:31.404904Z",
     "start_time": "2024-08-25T09:54:40.642718Z"
    }
   },
   "cell_type": "code",
   "source": [
    "epochs = 100\n",
    "\n",
    "for e in range(epochs):\n",
    "    trainer.train()\n",
    "    scheduler.step()"
   ],
   "id": "d29c050a4438b8ec",
   "outputs": [
    {
     "name": "stdout",
     "output_type": "stream",
     "text": [
      "Loss for id 0: 0.03605981171131134\n",
      "=================\n",
      "Metrics for id 0:\n",
      "Accuracy\n",
      "0.1134453781512605\n",
      "=================\n",
      "Loss for id 327: 0.03482492657779697\n",
      "Loss for id 654: 0.03439822238171129\n",
      "Loss for id 981: 0.034544416093919644\n",
      "Loss for id 1000: 0.03464825823903084\n",
      "=================\n",
      "Metrics for id 1000:\n",
      "Accuracy\n",
      "0.24866310160427807\n",
      "=================\n",
      "Loss for id 1308: 0.03445311122698115\n",
      "Loss for id 1635: 0.03471376873933101\n",
      "Loss for id 1962: 0.03480355386570532\n",
      "Loss for id 2000: 0.034373391419649124\n",
      "=================\n",
      "Metrics for id 2000:\n",
      "Accuracy\n",
      "0.2662337662337662\n",
      "=================\n",
      "Loss for id 2289: 0.03468550553335727\n",
      "Loss for id 2616: 0.03452838421755885\n",
      "Loss for id 2943: 0.03446288123169732\n",
      "Loss for id 3000: 0.034384798258543015\n",
      "=================\n",
      "Metrics for id 3000:\n",
      "Accuracy\n",
      "0.2652788388082506\n",
      "=================\n",
      "Loss for id 3270: 0.03428686568464152\n",
      "Loss for id 3597: 0.034479838617948955\n",
      "Loss for id 3924: 0.03473366723613651\n",
      "Loss for id 4000: 0.034507229924201965\n",
      "=================\n",
      "Metrics for id 4000:\n",
      "Accuracy\n",
      "0.2578304048892284\n",
      "=================\n",
      "Loss for id 4251: 0.03460605055818083\n",
      "Loss for id 4578: 0.034549188780100416\n",
      "Loss for id 4905: 0.034554590430043636\n",
      "Loss for id 5000: 0.034571900963783264\n",
      "=================\n",
      "Metrics for id 5000:\n",
      "Accuracy\n",
      "0.25381970970206263\n",
      "=================\n",
      "Loss for id 5232: 0.03448547956305202\n",
      "Loss for id 5559: 0.034331095029112094\n",
      "Loss for id 5886: 0.0343393798840511\n",
      "Loss for id 6000: 0.03427467867732048\n",
      "=================\n",
      "Metrics for id 6000:\n",
      "Accuracy\n",
      "0.2727272727272727\n",
      "=================\n",
      "Loss for id 6213: 0.03427843538560345\n",
      "Loss for id 6540: 0.03432229041871076\n",
      "Loss for id 6867: 0.0341622304968749\n",
      "Loss for id 7000: 0.03401331230998039\n",
      "=================\n",
      "Metrics for id 7000:\n",
      "Accuracy\n",
      "0.28934300993124523\n",
      "=================\n",
      "Loss for id 7194: 0.03406559892195501\n",
      "Loss for id 7521: 0.034035613257581136\n",
      "Loss for id 7848: 0.034070897237827524\n",
      "Loss for id 8000: 0.03394484519958496\n",
      "=================\n",
      "Metrics for id 8000:\n",
      "Accuracy\n",
      "0.2937356760886173\n",
      "=================\n",
      "Loss for id 8175: 0.03400916358333191\n",
      "Loss for id 8502: 0.03396541596551864\n",
      "Loss for id 8829: 0.03390981662309267\n",
      "Loss for id 9000: 0.03378799930214882\n",
      "=================\n",
      "Metrics for id 9000:\n",
      "Accuracy\n",
      "0.30366692131398015\n",
      "=================\n",
      "Loss for id 9156: 0.03391362992010594\n",
      "Loss for id 9483: 0.03389638839646635\n",
      "Loss for id 9810: 0.0338908716639936\n",
      "Loss for id 10000: 0.033762600272893906\n",
      "=================\n",
      "Metrics for id 10000:\n",
      "Accuracy\n",
      "0.3050038197097021\n",
      "=================\n",
      "Loss for id 10137: 0.03384179861322547\n",
      "Loss for id 10464: 0.0338507976936348\n",
      "Loss for id 10791: 0.033852554207766165\n",
      "Loss for id 11000: 0.03376543149352074\n",
      "=================\n",
      "Metrics for id 11000:\n",
      "Accuracy\n",
      "0.3050038197097021\n",
      "=================\n",
      "Loss for id 11118: 0.03385086504235819\n",
      "Loss for id 11445: 0.033821971882199604\n",
      "Loss for id 11772: 0.033853724938275015\n",
      "Loss for id 12000: 0.03379274159669876\n",
      "=================\n",
      "Metrics for id 12000:\n",
      "Accuracy\n",
      "0.30385790679908325\n",
      "=================\n",
      "Loss for id 12099: 0.033850517813924764\n",
      "Loss for id 12426: 0.033862256846682696\n",
      "Loss for id 12753: 0.033863532579042496\n",
      "Loss for id 13000: 0.0337597019970417\n",
      "=================\n",
      "Metrics for id 13000:\n",
      "Accuracy\n",
      "0.30557677616501144\n",
      "=================\n",
      "Loss for id 13080: 0.03382697335595542\n",
      "Loss for id 13407: 0.033833564639814385\n",
      "Loss for id 13734: 0.033814150562021354\n",
      "Loss for id 14000: 0.03375076502561569\n",
      "=================\n",
      "Metrics for id 14000:\n",
      "Accuracy\n",
      "0.30614973262032086\n",
      "=================\n",
      "Loss for id 14061: 0.03382872392186029\n",
      "Loss for id 14388: 0.03381236086304741\n",
      "Loss for id 14715: 0.03381259184776641\n",
      "Loss for id 15000: 0.03374676778912544\n",
      "=================\n",
      "Metrics for id 15000:\n",
      "Accuracy\n",
      "0.306340718105424\n",
      "=================\n",
      "Loss for id 15042: 0.033817979757021804\n",
      "Loss for id 15369: 0.03382708592258438\n",
      "Loss for id 15696: 0.03382096570411168\n",
      "Loss for id 16000: 0.03374011814594269\n",
      "=================\n",
      "Metrics for id 16000:\n",
      "Accuracy\n",
      "0.3067226890756303\n",
      "=================\n",
      "Loss for id 16023: 0.033803341473286744\n",
      "Loss for id 16350: 0.0338401567319491\n",
      "Loss for id 16677: 0.033850416984370496\n",
      "Loss for id 17000: 0.033740848302841187\n",
      "=================\n",
      "Metrics for id 17000:\n",
      "Accuracy\n",
      "0.3067226890756303\n",
      "=================\n",
      "Loss for id 17004: 0.03381307769549165\n",
      "Loss for id 17331: 0.033821179100294904\n",
      "Loss for id 17658: 0.03383510429128412\n",
      "Loss for id 17985: 0.03383028359807722\n",
      "Loss for id 18000: 0.033740490674972534\n",
      "=================\n",
      "Metrics for id 18000:\n",
      "Accuracy\n",
      "0.3067226890756303\n",
      "=================\n",
      "Loss for id 18312: 0.03381881706809005\n",
      "Loss for id 18639: 0.033814949935357906\n",
      "Loss for id 18966: 0.03381399892493624\n",
      "Loss for id 19000: 0.03374161571264267\n",
      "=================\n",
      "Metrics for id 19000:\n",
      "Accuracy\n",
      "0.3067226890756303\n",
      "=================\n",
      "Loss for id 19293: 0.03380218503559774\n",
      "Loss for id 19620: 0.033810718543480674\n",
      "Loss for id 19947: 0.03381552556430474\n",
      "Loss for id 20000: 0.033725135028362274\n",
      "=================\n",
      "Metrics for id 20000:\n",
      "Accuracy\n",
      "0.3074866310160428\n",
      "=================\n",
      "Loss for id 20274: 0.03383898785136715\n",
      "Loss for id 20601: 0.03382211953482678\n",
      "Loss for id 20928: 0.03382369809737436\n",
      "Loss for id 21000: 0.03374699503183365\n",
      "=================\n",
      "Metrics for id 21000:\n",
      "Accuracy\n",
      "0.3065317035905271\n",
      "=================\n",
      "Loss for id 21255: 0.03379368153068311\n",
      "Loss for id 21582: 0.033803269223680085\n",
      "Loss for id 21909: 0.033800329342616106\n",
      "Loss for id 22000: 0.033743876963853836\n",
      "=================\n",
      "Metrics for id 22000:\n",
      "Accuracy\n",
      "0.30614973262032086\n",
      "=================\n",
      "Loss for id 22236: 0.033799747008395754\n",
      "Loss for id 22563: 0.033807323011190576\n",
      "Loss for id 22890: 0.03382179679373345\n",
      "Loss for id 23000: 0.033738330006599426\n",
      "=================\n",
      "Metrics for id 23000:\n",
      "Accuracy\n",
      "0.3065317035905271\n",
      "=================\n",
      "Loss for id 23217: 0.0338263752831262\n",
      "Loss for id 23544: 0.033807760709587624\n",
      "Loss for id 23871: 0.03380361424358539\n",
      "Loss for id 24000: 0.03373449668288231\n",
      "=================\n",
      "Metrics for id 24000:\n",
      "Accuracy\n",
      "0.30710466004583653\n",
      "=================\n",
      "Loss for id 24198: 0.03382774691000451\n",
      "Loss for id 24525: 0.033808287153247206\n",
      "Loss for id 24852: 0.033814193400636315\n",
      "Loss for id 25000: 0.03373116999864578\n",
      "=================\n",
      "Metrics for id 25000:\n",
      "Accuracy\n",
      "0.30710466004583653\n",
      "=================\n",
      "Loss for id 25179: 0.033803182225886956\n",
      "Loss for id 25506: 0.033824055924465905\n",
      "Loss for id 25833: 0.03382298808404529\n",
      "Loss for id 26000: 0.03374443203210831\n",
      "=================\n",
      "Metrics for id 26000:\n",
      "Accuracy\n",
      "0.3067226890756303\n",
      "=================\n",
      "Loss for id 26160: 0.03382154399695326\n",
      "Loss for id 26487: 0.03381388210062937\n",
      "Loss for id 26814: 0.033807789932740584\n",
      "Loss for id 27000: 0.03373537212610245\n",
      "=================\n",
      "Metrics for id 27000:\n",
      "Accuracy\n",
      "0.3069136745607334\n",
      "=================\n",
      "Loss for id 27141: 0.03378444763478307\n",
      "Loss for id 27468: 0.033824661095322346\n",
      "Loss for id 27795: 0.033793646803286094\n",
      "Loss for id 28000: 0.03373388946056366\n",
      "=================\n",
      "Metrics for id 28000:\n",
      "Accuracy\n",
      "0.30710466004583653\n",
      "=================\n",
      "Loss for id 28122: 0.03382773095509649\n",
      "Loss for id 28449: 0.033790078180450905\n",
      "Loss for id 28776: 0.03380926437571005\n",
      "Loss for id 29000: 0.03373347967863083\n",
      "=================\n",
      "Metrics for id 29000:\n",
      "Accuracy\n",
      "0.3069136745607334\n",
      "=================\n",
      "Loss for id 29103: 0.03380499421505704\n",
      "Loss for id 29430: 0.03381404294750442\n",
      "Loss for id 29757: 0.03381895846511825\n",
      "Loss for id 30000: 0.03374936059117317\n",
      "=================\n",
      "Metrics for id 30000:\n",
      "Accuracy\n",
      "0.306340718105424\n",
      "=================\n",
      "Loss for id 30084: 0.033815918978297804\n",
      "Loss for id 30411: 0.03383025150611454\n",
      "Loss for id 30738: 0.03381045712888716\n",
      "Loss for id 31000: 0.033743854612112045\n",
      "=================\n",
      "Metrics for id 31000:\n",
      "Accuracy\n",
      "0.3067226890756303\n",
      "=================\n",
      "Loss for id 31065: 0.0338112101117491\n",
      "Loss for id 31392: 0.03384232324680273\n",
      "Loss for id 31719: 0.03383581524380685\n",
      "Loss for id 32000: 0.033738281577825546\n",
      "=================\n",
      "Metrics for id 32000:\n",
      "Accuracy\n",
      "0.3067226890756303\n",
      "=================\n",
      "Loss for id 32046: 0.03380822064695207\n",
      "Loss for id 32373: 0.03379634758841312\n",
      "Loss for id 32700: 0.033822705944578396\n"
     ]
    }
   ],
   "execution_count": 9
  },
  {
   "metadata": {},
   "cell_type": "markdown",
   "source": "# CIFAR-10",
   "id": "772ffb136435da56"
  },
  {
   "metadata": {
    "ExecuteTime": {
     "end_time": "2024-09-12T19:12:50.707289Z",
     "start_time": "2024-09-12T19:12:47.101908Z"
    }
   },
   "cell_type": "code",
   "source": [
    "from torchvision.datasets import CIFAR10\n",
    "from torchvision import transforms\n",
    "\n",
    "transform = transforms.Compose([transforms.ToTensor(),\n",
    "                                transforms.Resize((224, 224))])\n",
    "\n",
    "train_dataset = CIFAR10(root='../dataset/cifar10',\n",
    "                        train=True,\n",
    "                        transform=transform,\n",
    "                        download=True)\n",
    "test_dataset = CIFAR10(root='../dataset/cifar10',\n",
    "                       train=False,\n",
    "                       transform=transform,\n",
    "                       download=True)"
   ],
   "id": "32434daf8d497470",
   "outputs": [
    {
     "name": "stdout",
     "output_type": "stream",
     "text": [
      "Files already downloaded and verified\n",
      "Files already downloaded and verified\n"
     ]
    }
   ],
   "execution_count": 2
  },
  {
   "metadata": {
    "ExecuteTime": {
     "end_time": "2024-09-12T19:12:52.672606Z",
     "start_time": "2024-09-12T19:12:52.632542Z"
    }
   },
   "cell_type": "code",
   "source": [
    "from torch.utils.data import DataLoader\n",
    "\n",
    "batch_size = 64\n",
    "train_loader = DataLoader(dataset=train_dataset, batch_size=batch_size, shuffle=True)\n",
    "test_loader = DataLoader(dataset=test_dataset, batch_size=batch_size, shuffle=True)"
   ],
   "id": "75dc4a0457ad8a47",
   "outputs": [],
   "execution_count": 3
  },
  {
   "metadata": {
    "ExecuteTime": {
     "end_time": "2024-09-12T19:32:36.949543Z",
     "start_time": "2024-09-12T19:32:36.867704Z"
    }
   },
   "cell_type": "code",
   "source": [
    "from model.alexnet import AlexNet\n",
    "from torch.optim import Adam\n",
    "from torch.optim.lr_scheduler import ExponentialLR\n",
    "from torch.nn import CrossEntropyLoss\n",
    "from evaluation.metrics import Metric\n",
    "from evaluation.eval import ClassificationEvaluator\n",
    "\n",
    "model = AlexNet(nc=10)\n",
    "optimizer = Adam(model.parameters(), lr=1e-4, betas=(0.9, 0.98), eps=1e-9)\n",
    "scheduler = ExponentialLR(optimizer, gamma=0.9)\n",
    "loss_fn = CrossEntropyLoss()\n",
    "evaluator = ClassificationEvaluator()"
   ],
   "id": "50f87508dab40df8",
   "outputs": [],
   "execution_count": 14
  },
  {
   "metadata": {
    "ExecuteTime": {
     "end_time": "2024-09-12T19:32:38.210579Z",
     "start_time": "2024-09-12T19:32:38.148967Z"
    }
   },
   "cell_type": "code",
   "source": [
    "from trainer.supervised import SimpleTrainer\n",
    "\n",
    "trainer = SimpleTrainer(model, train_loader, test_loader, loss_fn, optimizer, evaluator, eval_freq=1000)"
   ],
   "id": "7b810944ea51fa51",
   "outputs": [],
   "execution_count": 15
  },
  {
   "metadata": {
    "jupyter": {
     "is_executing": true
    },
    "ExecuteTime": {
     "start_time": "2024-09-12T19:32:39.088037Z"
    }
   },
   "cell_type": "code",
   "source": [
    "epochs = 100\n",
    "\n",
    "for epoch in range(epochs):\n",
    "    print(f'========== Epoch {epoch} ==========')\n",
    "    trainer.train()\n",
    "    scheduler.step()"
   ],
   "id": "a0263829587c5d13",
   "outputs": [
    {
     "name": "stdout",
     "output_type": "stream",
     "text": [
      "========== Epoch 0 ==========\n",
      "Loss for id 0: 2.3025856018066406\n",
      "=================\n",
      "Metrics for id 0:\n",
      "Accuracy  \n",
      "0.0666    \n",
      "=================\n",
      "Loss for id 0: 2.3027641773223877\n",
      "Loss for id 10: 2.303586483001709\n",
      "Loss for id 20: 2.299543857574463\n",
      "Loss for id 30: 2.2876243591308594\n",
      "Loss for id 40: 2.2458739280700684\n",
      "Loss for id 50: 2.2592978477478027\n",
      "Loss for id 60: 2.2860264778137207\n",
      "Loss for id 70: 2.2952139377593994\n",
      "Loss for id 80: 2.26339054107666\n",
      "Loss for id 90: 2.199979543685913\n",
      "Loss for id 100: 2.2996809482574463\n",
      "Loss for id 110: 2.2728545665740967\n",
      "Loss for id 120: 2.266512632369995\n",
      "Loss for id 130: 2.249397039413452\n",
      "Loss for id 140: 2.227978467941284\n",
      "Loss for id 150: 2.2212657928466797\n",
      "Loss for id 160: 2.232271432876587\n",
      "Loss for id 170: 2.2514376640319824\n",
      "Loss for id 180: 2.251798629760742\n",
      "Loss for id 190: 2.252180337905884\n",
      "Loss for id 200: 2.2003579139709473\n",
      "Loss for id 210: 2.18147349357605\n",
      "Loss for id 220: 2.2111616134643555\n",
      "Loss for id 230: 2.2717995643615723\n",
      "Loss for id 240: 2.155895948410034\n",
      "Loss for id 250: 2.206319808959961\n",
      "Loss for id 260: 2.2540979385375977\n",
      "Loss for id 270: 2.2663373947143555\n",
      "Loss for id 280: 2.1635327339172363\n",
      "Loss for id 290: 2.2718725204467773\n",
      "Loss for id 300: 2.1531500816345215\n",
      "Loss for id 310: 2.135979175567627\n",
      "Loss for id 320: 2.179760694503784\n",
      "Loss for id 330: 2.213789939880371\n",
      "Loss for id 340: 2.1498987674713135\n",
      "Loss for id 350: 2.169328451156616\n",
      "Loss for id 360: 2.198939561843872\n",
      "Loss for id 370: 2.159820556640625\n",
      "Loss for id 380: 2.2278897762298584\n",
      "Loss for id 390: 2.190403938293457\n",
      "Loss for id 400: 2.1831626892089844\n",
      "Loss for id 410: 2.259262800216675\n",
      "Loss for id 420: 2.150099277496338\n",
      "Loss for id 430: 2.1294679641723633\n",
      "Loss for id 440: 2.192638397216797\n",
      "Loss for id 450: 2.1045186519622803\n",
      "Loss for id 460: 2.1059226989746094\n",
      "Loss for id 470: 2.090252161026001\n",
      "Loss for id 480: 2.178459882736206\n",
      "Loss for id 490: 2.134448528289795\n",
      "Loss for id 500: 2.1708643436431885\n",
      "Loss for id 510: 2.1044211387634277\n",
      "Loss for id 520: 2.136798620223999\n",
      "Loss for id 530: 1.9908874034881592\n",
      "Loss for id 540: 2.154885768890381\n",
      "Loss for id 550: 2.161451816558838\n",
      "Loss for id 560: 2.165686845779419\n",
      "Loss for id 570: 2.07784366607666\n"
     ]
    }
   ],
   "execution_count": null
  }
 ],
 "metadata": {
  "kernelspec": {
   "display_name": "Python 3",
   "language": "python",
   "name": "python3"
  },
  "language_info": {
   "codemirror_mode": {
    "name": "ipython",
    "version": 2
   },
   "file_extension": ".py",
   "mimetype": "text/x-python",
   "name": "python",
   "nbconvert_exporter": "python",
   "pygments_lexer": "ipython2",
   "version": "2.7.6"
  }
 },
 "nbformat": 4,
 "nbformat_minor": 5
}
