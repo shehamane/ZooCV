{
 "cells": [
  {
   "cell_type": "code",
   "id": "initial_id",
   "metadata": {
    "collapsed": true,
    "ExecuteTime": {
     "end_time": "2024-08-05T20:18:28.693063Z",
     "start_time": "2024-08-05T20:18:28.547629Z"
    }
   },
   "source": [
    "\n",
    "%load_ext autoreload"
   ],
   "outputs": [],
   "execution_count": 41
  },
  {
   "metadata": {
    "ExecuteTime": {
     "end_time": "2024-08-05T20:18:28.698103Z",
     "start_time": "2024-08-05T20:18:28.694845Z"
    }
   },
   "cell_type": "code",
   "source": "%autoreload 2",
   "id": "601ad975b4e84fd7",
   "outputs": [],
   "execution_count": 42
  },
  {
   "metadata": {},
   "cell_type": "markdown",
   "source": "# Animals-10",
   "id": "6f5b012abb7e1e1e"
  },
  {
   "metadata": {
    "ExecuteTime": {
     "end_time": "2024-08-05T20:18:34.194195Z",
     "start_time": "2024-08-05T20:18:28.699085Z"
    }
   },
   "cell_type": "code",
   "source": [
    "from datasets.animals10 import Animals10\n",
    "from torchvision import transforms\n",
    "\n",
    "dataset = Animals10(src='/home/kurikuri/Projects/Datasets/Animals-10/', \n",
    "                    dst='../data/animals10',\n",
    "                    prepare=True,\n",
    "                    transform=(\n",
    "                        transforms.ToTensor(),\n",
    "                        transforms.Resize((224, 224))\n",
    "                    ))"
   ],
   "id": "e51b27975eeea13c",
   "outputs": [],
   "execution_count": 43
  },
  {
   "metadata": {
    "ExecuteTime": {
     "end_time": "2024-08-05T20:18:34.216055Z",
     "start_time": "2024-08-05T20:18:34.196132Z"
    }
   },
   "cell_type": "code",
   "source": "len(dataset)",
   "id": "fac0424cf87f0c6f",
   "outputs": [
    {
     "data": {
      "text/plain": [
       "26179"
      ]
     },
     "execution_count": 44,
     "metadata": {},
     "output_type": "execute_result"
    }
   ],
   "execution_count": 44
  },
  {
   "metadata": {
    "ExecuteTime": {
     "end_time": "2024-08-05T20:18:34.236266Z",
     "start_time": "2024-08-05T20:18:34.217148Z"
    }
   },
   "cell_type": "code",
   "source": [
    "from torch.utils.data import random_split\n",
    "\n",
    "train_size = int(0.8 * len(dataset))\n",
    "test_size = len(dataset) - train_size\n",
    "train_dataset, test_dataset = random_split(dataset, [train_size, test_size])"
   ],
   "id": "fca53ab461e7983b",
   "outputs": [],
   "execution_count": 45
  },
  {
   "metadata": {
    "ExecuteTime": {
     "end_time": "2024-08-05T20:18:34.286762Z",
     "start_time": "2024-08-05T20:18:34.237429Z"
    }
   },
   "cell_type": "code",
   "source": [
    "import torch\n",
    "\n",
    "print(torch.cuda.is_available())\n",
    "print(torch.cuda.get_device_name())"
   ],
   "id": "cc2fe90b817e08f6",
   "outputs": [
    {
     "name": "stdout",
     "output_type": "stream",
     "text": [
      "True\n",
      "NVIDIA GeForce GTX 1070 Ti\n"
     ]
    }
   ],
   "execution_count": 46
  },
  {
   "metadata": {},
   "cell_type": "markdown",
   "source": "## Лоадеры",
   "id": "44fcdab26daacd2a"
  },
  {
   "metadata": {
    "ExecuteTime": {
     "end_time": "2024-08-05T20:18:34.306992Z",
     "start_time": "2024-08-05T20:18:34.288340Z"
    }
   },
   "cell_type": "code",
   "source": [
    "from torch.utils.data import DataLoader\n",
    "\n",
    "batch_size = 64\n",
    "train_loader = DataLoader(dataset=train_dataset, batch_size=batch_size, shuffle=True)\n",
    "test_loader = DataLoader(dataset=test_dataset, batch_size=batch_size, shuffle=True)"
   ],
   "id": "609c66e76a5c4096",
   "outputs": [],
   "execution_count": 47
  },
  {
   "metadata": {
    "ExecuteTime": {
     "end_time": "2024-08-05T20:18:34.403173Z",
     "start_time": "2024-08-05T20:18:34.308180Z"
    }
   },
   "cell_type": "code",
   "source": [
    "from model.alexnet import AlexNet\n",
    "from torch.optim import Adam\n",
    "from torch.optim.lr_scheduler import StepLR\n",
    "from torch.nn import CrossEntropyLoss\n",
    "\n",
    "model = AlexNet()\n",
    "optimizer = Adam(model.parameters(), lr=1e-6, betas=(0.9, 0.98), eps=1e-9)\n",
    "loss_fn = CrossEntropyLoss()\n",
    "scheduler = StepLR(optimizer, step_size=7, gamma=0.1)"
   ],
   "id": "6fe49b957560ab88",
   "outputs": [],
   "execution_count": 48
  },
  {
   "metadata": {
    "ExecuteTime": {
     "end_time": "2024-08-05T20:18:34.520459Z",
     "start_time": "2024-08-05T20:18:34.404323Z"
    }
   },
   "cell_type": "code",
   "source": [
    "from trainer.supervised import SimpleTrainer\n",
    "from metric.classification import Accuracy\n",
    "\n",
    "trainer = SimpleTrainer(model, loss_fn=loss_fn, optimizer=optimizer)\n",
    "trainer.set_metrics([Accuracy()])"
   ],
   "id": "3a708f85eb362e65",
   "outputs": [],
   "execution_count": 49
  },
  {
   "metadata": {},
   "cell_type": "markdown",
   "source": "# Обучение",
   "id": "fa580f502be66028"
  },
  {
   "metadata": {},
   "cell_type": "code",
   "source": [
    "epochs = 100\n",
    "\n",
    "for e in range(epochs):\n",
    "    print(f'Epoch {e+1}\\n------------------')\n",
    "\n",
    "    trainer.train(train_loader)\n",
    "    trainer.test(test_loader)"
   ],
   "id": "d29c050a4438b8ec",
   "outputs": [],
   "execution_count": null
  },
  {
   "metadata": {
    "ExecuteTime": {
     "end_time": "2024-08-05T21:29:41.025286Z",
     "start_time": "2024-08-05T21:29:22.366242Z"
    }
   },
   "cell_type": "code",
   "source": "trainer.test(test_loader)",
   "id": "6cc2d3ca009b1dd2",
   "outputs": [
    {
     "name": "stderr",
     "output_type": "stream",
     "text": [
      "libpng warning: iCCP: known incorrect sRGB profile\n",
      "libpng warning: iCCP: known incorrect sRGB profile\n",
      "libpng warning: iCCP: known incorrect sRGB profile\n"
     ]
    },
    {
     "name": "stdout",
     "output_type": "stream",
     "text": [
      "Loss: 0.034191\n",
      "Accuracy: 40.384617%\n"
     ]
    }
   ],
   "execution_count": 58
  }
 ],
 "metadata": {
  "kernelspec": {
   "display_name": "Python 3",
   "language": "python",
   "name": "python3"
  },
  "language_info": {
   "codemirror_mode": {
    "name": "ipython",
    "version": 2
   },
   "file_extension": ".py",
   "mimetype": "text/x-python",
   "name": "python",
   "nbconvert_exporter": "python",
   "pygments_lexer": "ipython2",
   "version": "2.7.6"
  }
 },
 "nbformat": 4,
 "nbformat_minor": 5
}
