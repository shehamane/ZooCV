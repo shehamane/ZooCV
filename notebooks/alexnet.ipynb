{
 "cells": [
  {
   "metadata": {
    "ExecuteTime": {
     "end_time": "2024-08-24T17:01:58.246815Z",
     "start_time": "2024-08-24T17:01:58.228802Z"
    }
   },
   "cell_type": "code",
   "source": [
    "%load_ext autoreload\n",
    "%autoreload 2"
   ],
   "id": "b68f3323ad529837",
   "outputs": [],
   "execution_count": 1
  },
  {
   "metadata": {},
   "cell_type": "markdown",
   "source": "# Animals-10",
   "id": "6f5b012abb7e1e1e"
  },
  {
   "metadata": {
    "ExecuteTime": {
     "end_time": "2024-08-24T17:02:01.462230Z",
     "start_time": "2024-08-24T17:01:58.248475Z"
    }
   },
   "cell_type": "code",
   "source": [
    "from data.animals10 import Animals10\n",
    "from torchvision import transforms\n",
    "\n",
    "dataset = Animals10(src='/home/kurikuri/Projects/Datasets/Animals-10/',\n",
    "                    root='../dataset/animals10',\n",
    "                    prepare=False,\n",
    "                    transform=(\n",
    "                        transforms.ToTensor(),\n",
    "                        transforms.Resize((224, 224))\n",
    "                    ))"
   ],
   "id": "e51b27975eeea13c",
   "outputs": [],
   "execution_count": 2
  },
  {
   "metadata": {
    "ExecuteTime": {
     "end_time": "2024-08-24T17:02:02.118692Z",
     "start_time": "2024-08-24T17:02:02.070801Z"
    }
   },
   "cell_type": "code",
   "source": "len(dataset)",
   "id": "fac0424cf87f0c6f",
   "outputs": [
    {
     "data": {
      "text/plain": [
       "26179"
      ]
     },
     "execution_count": 3,
     "metadata": {},
     "output_type": "execute_result"
    }
   ],
   "execution_count": 3
  },
  {
   "metadata": {
    "ExecuteTime": {
     "end_time": "2024-08-24T17:02:02.559097Z",
     "start_time": "2024-08-24T17:02:02.515234Z"
    }
   },
   "cell_type": "code",
   "source": [
    "from torch.utils.data import random_split\n",
    "\n",
    "train_size = int(0.8 * len(dataset))\n",
    "test_size = len(dataset) - train_size\n",
    "train_dataset, test_dataset = random_split(dataset, [train_size, test_size])"
   ],
   "id": "fca53ab461e7983b",
   "outputs": [],
   "execution_count": 4
  },
  {
   "metadata": {
    "ExecuteTime": {
     "end_time": "2024-08-24T17:02:02.911748Z",
     "start_time": "2024-08-24T17:02:02.829194Z"
    }
   },
   "cell_type": "code",
   "source": [
    "import torch\n",
    "\n",
    "print(torch.cuda.is_available())\n",
    "print(torch.cuda.get_device_name())"
   ],
   "id": "cc2fe90b817e08f6",
   "outputs": [
    {
     "name": "stdout",
     "output_type": "stream",
     "text": [
      "True\n",
      "NVIDIA GeForce GTX 1070 Ti\n"
     ]
    }
   ],
   "execution_count": 5
  },
  {
   "metadata": {},
   "cell_type": "markdown",
   "source": "## Лоадеры",
   "id": "44fcdab26daacd2a"
  },
  {
   "metadata": {
    "ExecuteTime": {
     "end_time": "2024-08-24T17:02:03.703091Z",
     "start_time": "2024-08-24T17:02:03.681237Z"
    }
   },
   "cell_type": "code",
   "source": [
    "from torch.utils.data import DataLoader\n",
    "\n",
    "batch_size = 64\n",
    "train_loader = DataLoader(dataset=train_dataset, batch_size=batch_size, shuffle=True)\n",
    "test_loader = DataLoader(dataset=test_dataset, batch_size=batch_size, shuffle=True)"
   ],
   "id": "609c66e76a5c4096",
   "outputs": [],
   "execution_count": 6
  },
  {
   "metadata": {
    "ExecuteTime": {
     "end_time": "2024-08-24T17:02:04.892925Z",
     "start_time": "2024-08-24T17:02:04.054845Z"
    }
   },
   "cell_type": "code",
   "source": [
    "from model.alexnet import AlexNet\n",
    "from torch.optim import Adam\n",
    "from torch.optim.lr_scheduler import ExponentialLR\n",
    "from torch.nn import CrossEntropyLoss\n",
    "from evaluation.metrics import Metric\n",
    "from evaluation.eval import ClassificationEvaluator\n",
    "\n",
    "model = AlexNet('../config/alexnet.yaml', 10)\n",
    "optimizer = Adam(model.parameters(), lr=1e-3, betas=(0.9, 0.98), eps=1e-9)\n",
    "schediler = ExponentialLR(optimizer, gamma=0.9)\n",
    "loss_fn = CrossEntropyLoss()\n",
    "metrics = [Metric.Accuracy, ]\n",
    "evaluator = ClassificationEvaluator(metrics)"
   ],
   "id": "6fe49b957560ab88",
   "outputs": [],
   "execution_count": 7
  },
  {
   "metadata": {
    "ExecuteTime": {
     "end_time": "2024-08-24T17:02:05.027484Z",
     "start_time": "2024-08-24T17:02:04.894528Z"
    }
   },
   "cell_type": "code",
   "source": [
    "from trainer.supervised import ClassificationTrainer\n",
    "\n",
    "trainer = ClassificationTrainer(model, train_loader, test_loader, loss_fn, optimizer, evaluator, eval_freq=1000)"
   ],
   "id": "3a708f85eb362e65",
   "outputs": [],
   "execution_count": 8
  },
  {
   "metadata": {},
   "cell_type": "markdown",
   "source": "# Обучение",
   "id": "fa580f502be66028"
  },
  {
   "metadata": {
    "jupyter": {
     "is_executing": true
    },
    "ExecuteTime": {
     "start_time": "2024-08-24T17:02:08.599759Z"
    }
   },
   "cell_type": "code",
   "source": [
    "epochs = 100\n",
    "\n",
    "for e in range(epochs):\n",
    "    trainer.train()"
   ],
   "id": "d29c050a4438b8ec",
   "outputs": [
    {
     "name": "stdout",
     "output_type": "stream",
     "text": [
      "Loss for id 0: 0.03601072356104851\n",
      "=================\n",
      "Metrics for id 0:\n",
      "Accuracy\n",
      "0.18621084797555384\n",
      "=================\n"
     ]
    }
   ],
   "execution_count": null
  }
 ],
 "metadata": {
  "kernelspec": {
   "display_name": "Python 3",
   "language": "python",
   "name": "python3"
  },
  "language_info": {
   "codemirror_mode": {
    "name": "ipython",
    "version": 2
   },
   "file_extension": ".py",
   "mimetype": "text/x-python",
   "name": "python",
   "nbconvert_exporter": "python",
   "pygments_lexer": "ipython2",
   "version": "2.7.6"
  }
 },
 "nbformat": 4,
 "nbformat_minor": 5
}
