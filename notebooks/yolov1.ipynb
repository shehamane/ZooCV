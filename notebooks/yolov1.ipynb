{
 "cells": [
  {
   "cell_type": "code",
   "id": "initial_id",
   "metadata": {
    "collapsed": true,
    "ExecuteTime": {
     "end_time": "2024-08-21T15:03:51.754111Z",
     "start_time": "2024-08-21T15:03:51.355057Z"
    }
   },
   "source": [
    "%load_ext autoreload\n",
    "%autoreload 2\n",
    "\n",
    "%matplotlib inline\n",
    "import matplotlib.pyplot as plt"
   ],
   "outputs": [],
   "execution_count": 1
  },
  {
   "metadata": {
    "ExecuteTime": {
     "end_time": "2024-08-21T15:04:10.173335Z",
     "start_time": "2024-08-21T15:04:08.025746Z"
    }
   },
   "cell_type": "code",
   "source": [
    "from data.animals10 import Animals10\n",
    "from torchvision import transforms\n",
    "\n",
    "dataset = Animals10(src='/home/kurikuri/Projects/Datasets/Animals-10/',\n",
    "                    root='../dataset/animals10',\n",
    "                    prepare=False,\n",
    "                    transform=(\n",
    "                        transforms.ToTensor(),\n",
    "                        transforms.Resize((448, 448))\n",
    "                    ))"
   ],
   "id": "55af69fa97d84378",
   "outputs": [],
   "execution_count": 2
  },
  {
   "metadata": {},
   "cell_type": "code",
   "outputs": [],
   "execution_count": null,
   "source": "",
   "id": "a1de03d5a163d312"
  }
 ],
 "metadata": {
  "kernelspec": {
   "display_name": "Python 3",
   "language": "python",
   "name": "python3"
  },
  "language_info": {
   "codemirror_mode": {
    "name": "ipython",
    "version": 2
   },
   "file_extension": ".py",
   "mimetype": "text/x-python",
   "name": "python",
   "nbconvert_exporter": "python",
   "pygments_lexer": "ipython2",
   "version": "2.7.6"
  }
 },
 "nbformat": 4,
 "nbformat_minor": 5
}
