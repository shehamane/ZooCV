{
 "cells": [
  {
   "metadata": {
    "ExecuteTime": {
     "end_time": "2024-08-06T00:06:11.962592Z",
     "start_time": "2024-08-06T00:06:11.698130Z"
    }
   },
   "cell_type": "code",
   "source": [
    "import numpy as np\n",
    "import pandas as pd\n"
   ],
   "id": "a5c043faa8cf19aa",
   "outputs": [],
   "execution_count": 1
  },
  {
   "metadata": {
    "ExecuteTime": {
     "end_time": "2024-08-06T00:11:36.301217Z",
     "start_time": "2024-08-06T00:11:36.296298Z"
    }
   },
   "cell_type": "code",
   "source": [
    "columns = {'loss': pd.Series(dtype=np.float32), 'metric': pd.Series(dtype=np.float32), }\n",
    "index = pd.Index([0,], dtype=np.int32)\n",
    "log = pd.DataFrame(index=index, data=columns)"
   ],
   "id": "initial_id",
   "outputs": [],
   "execution_count": 14
  }
 ],
 "metadata": {
  "kernelspec": {
   "display_name": "Python 3",
   "language": "python",
   "name": "python3"
  },
  "language_info": {
   "codemirror_mode": {
    "name": "ipython",
    "version": 2
   },
   "file_extension": ".py",
   "mimetype": "text/x-python",
   "name": "python",
   "nbconvert_exporter": "python",
   "pygments_lexer": "ipython2",
   "version": "2.7.6"
  }
 },
 "nbformat": 4,
 "nbformat_minor": 5
}
