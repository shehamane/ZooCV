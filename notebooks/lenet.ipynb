{
 "cells": [
  {
   "metadata": {
    "ExecuteTime": {
     "end_time": "2024-07-31T18:30:58.159102Z",
     "start_time": "2024-07-31T18:30:58.129751Z"
    }
   },
   "cell_type": "code",
   "source": "%load_ext autoreload",
   "id": "ff9840ba88218221",
   "outputs": [],
   "execution_count": 1
  },
  {
   "metadata": {
    "ExecuteTime": {
     "end_time": "2024-07-31T18:30:58.331429Z",
     "start_time": "2024-07-31T18:30:58.328014Z"
    }
   },
   "cell_type": "code",
   "source": "%autoreload 2",
   "id": "b62cb91bd73f7d9c",
   "outputs": [],
   "execution_count": 2
  },
  {
   "metadata": {},
   "cell_type": "markdown",
   "source": "# Подготовка",
   "id": "2ae34e32e760cb40"
  },
  {
   "metadata": {},
   "cell_type": "markdown",
   "source": [
    "## Датасет\n",
    "Для тестирования LeNet-5 можно использовать датасет FashionMNIT, так как изображения в нем размера $28 \\times 28$, как раз подходит под вход без ресайза"
   ],
   "id": "5659fc629efcfe93"
  },
  {
   "metadata": {
    "ExecuteTime": {
     "end_time": "2024-07-31T18:38:43.069640Z",
     "start_time": "2024-07-31T18:38:42.974861Z"
    }
   },
   "cell_type": "code",
   "source": [
    "import torch\n",
    "from torch.utils.data import DataLoader\n",
    "from torchvision import datasets, transforms\n",
    "\n",
    "train_data = datasets.FashionMNIST(\n",
    "    root='data',\n",
    "    train=True,\n",
    "    download=True,\n",
    "    transform=transforms.ToTensor(),\n",
    ")\n",
    "\n",
    "test_data = datasets.FashionMNIST(\n",
    "    root='data',\n",
    "    train=False,\n",
    "    download=True,\n",
    "    transform=transforms.ToTensor(),\n",
    ")"
   ],
   "id": "b003c7fd-9407-4b39-a8ec-1c9c0e3dac0f",
   "outputs": [],
   "execution_count": 25
  },
  {
   "metadata": {},
   "cell_type": "markdown",
   "source": "## Проверка использования GPU",
   "id": "e5bf716a49352d07"
  },
  {
   "metadata": {
    "ExecuteTime": {
     "end_time": "2024-07-31T18:38:43.817766Z",
     "start_time": "2024-07-31T18:38:43.776258Z"
    }
   },
   "cell_type": "code",
   "source": "torch.cuda.is_available()",
   "id": "fc03513a27c415e7",
   "outputs": [
    {
     "data": {
      "text/plain": [
       "True"
      ]
     },
     "execution_count": 26,
     "metadata": {},
     "output_type": "execute_result"
    }
   ],
   "execution_count": 26
  },
  {
   "metadata": {
    "ExecuteTime": {
     "end_time": "2024-07-31T18:38:44.338301Z",
     "start_time": "2024-07-31T18:38:44.295949Z"
    }
   },
   "cell_type": "code",
   "source": "torch.cuda.current_device()",
   "id": "5c0517ce9ca11a0f",
   "outputs": [
    {
     "data": {
      "text/plain": [
       "0"
      ]
     },
     "execution_count": 27,
     "metadata": {},
     "output_type": "execute_result"
    }
   ],
   "execution_count": 27
  },
  {
   "metadata": {
    "ExecuteTime": {
     "end_time": "2024-07-31T18:38:44.691960Z",
     "start_time": "2024-07-31T18:38:44.649225Z"
    }
   },
   "cell_type": "code",
   "source": "torch.cuda.get_device_name()",
   "id": "54394d3372ec86d",
   "outputs": [
    {
     "data": {
      "text/plain": [
       "'NVIDIA GeForce GTX 1070 Ti'"
      ]
     },
     "execution_count": 28,
     "metadata": {},
     "output_type": "execute_result"
    }
   ],
   "execution_count": 28
  },
  {
   "metadata": {},
   "cell_type": "markdown",
   "source": "## Подготовка модели и лоадеров",
   "id": "2ad38bcd21452d3a"
  },
  {
   "cell_type": "code",
   "id": "d794d1cf-53e2-444f-84a2-97778ef56009",
   "metadata": {
    "ExecuteTime": {
     "end_time": "2024-07-31T18:38:45.702536Z",
     "start_time": "2024-07-31T18:38:45.680542Z"
    }
   },
   "source": [
    "batch_size = 64\n",
    "train_loader = DataLoader(train_data, batch_size=batch_size)\n",
    "test_loader = DataLoader(test_data, batch_size=batch_size)"
   ],
   "outputs": [],
   "execution_count": 29
  },
  {
   "cell_type": "code",
   "id": "8bc55a57-ea68-40dc-bc8e-4f8d749027e5",
   "metadata": {
    "ExecuteTime": {
     "end_time": "2024-07-31T18:38:46.230542Z",
     "start_time": "2024-07-31T18:38:46.187276Z"
    }
   },
   "source": [
    "from backbone.lenet5 import LeNet5\n",
    "from torch.optim import SGD\n",
    "from torch.nn import CrossEntropyLoss\n",
    "\n",
    "model = LeNet5()\n",
    "optimizer = SGD(model.parameters(), lr=0.1, momentum=0.9)\n",
    "loss_fn = CrossEntropyLoss()"
   ],
   "outputs": [],
   "execution_count": 30
  },
  {
   "cell_type": "code",
   "id": "9a01a604-6dda-4fa0-87b0-28a85e682f07",
   "metadata": {
    "ExecuteTime": {
     "end_time": "2024-07-31T18:39:25.624808Z",
     "start_time": "2024-07-31T18:39:25.571405Z"
    }
   },
   "source": [
    "from trainer.simple_trainer import SimpleTrainer\n",
    "from metric.classification import Accuracy\n",
    "\n",
    "trainer = SimpleTrainer(model, loss_fn=loss_fn, optimizer=optimizer)\n",
    "trainer.set_metrics([Accuracy()])"
   ],
   "outputs": [],
   "execution_count": 33
  },
  {
   "metadata": {},
   "cell_type": "markdown",
   "source": "# Обучение",
   "id": "168f1b07358f4fad"
  },
  {
   "cell_type": "code",
   "id": "594335c3-d1a3-4770-9809-327578360297",
   "metadata": {
    "ExecuteTime": {
     "end_time": "2024-07-31T18:54:59.070314Z",
     "start_time": "2024-07-31T18:49:53.028450Z"
    }
   },
   "source": [
    "epochs = 100\n",
    "\n",
    "for e in range(epochs):\n",
    "    print(f'Epoch {e+1}\\n------------------')\n",
    "\n",
    "    trainer.train(train_loader)\n",
    "    trainer.test(test_loader)"
   ],
   "outputs": [
    {
     "name": "stdout",
     "output_type": "stream",
     "text": [
      "Epoch 1\n",
      "------------------\n",
      "Loss: 2.304672\n",
      "Loss: 2.303800\n",
      "Loss: 2.298635\n",
      "Loss: 2.306309\n",
      "Loss: 2.306822\n",
      "Loss: 2.306981\n",
      "Loss: 2.305265\n",
      "Loss: 2.304184\n",
      "Loss: 2.305803\n",
      "Loss: 2.307631\n",
      "Loss: 0.036157\n",
      "Accuracy: 6.250000%\n",
      "Epoch 2\n",
      "------------------\n",
      "Loss: 2.303063\n",
      "Loss: 2.305141\n",
      "Loss: 2.298955\n",
      "Loss: 2.305203\n",
      "Loss: 2.306302\n",
      "Loss: 2.306623\n",
      "Loss: 2.304768\n",
      "Loss: 2.304433\n",
      "Loss: 2.305562\n",
      "Loss: 2.306129\n",
      "Loss: 0.036155\n",
      "Accuracy: 6.250000%\n",
      "Epoch 3\n",
      "------------------\n",
      "Loss: 2.302224\n",
      "Loss: 2.305853\n",
      "Loss: 2.299506\n",
      "Loss: 2.304468\n",
      "Loss: 2.305738\n",
      "Loss: 2.306170\n",
      "Loss: 2.304356\n",
      "Loss: 2.304532\n",
      "Loss: 2.305136\n",
      "Loss: 2.304909\n",
      "Loss: 0.036153\n",
      "Accuracy: 6.250000%\n",
      "Epoch 4\n",
      "------------------\n",
      "Loss: 2.301980\n",
      "Loss: 2.305933\n",
      "Loss: 2.300143\n",
      "Loss: 2.303997\n",
      "Loss: 2.305217\n",
      "Loss: 2.305724\n",
      "Loss: 2.304013\n",
      "Loss: 2.304558\n",
      "Loss: 2.304713\n",
      "Loss: 2.304106\n",
      "Loss: 0.036153\n",
      "Accuracy: 6.250000%\n",
      "Epoch 5\n",
      "------------------\n",
      "Loss: 2.302006\n",
      "Loss: 2.305680\n",
      "Loss: 2.300726\n",
      "Loss: 2.303676\n",
      "Loss: 2.304801\n",
      "Loss: 2.305316\n",
      "Loss: 2.303751\n",
      "Loss: 2.304505\n",
      "Loss: 2.304368\n",
      "Loss: 2.303625\n",
      "Loss: 0.036152\n",
      "Accuracy: 6.250000%\n",
      "Epoch 6\n",
      "------------------\n",
      "Loss: 2.302093\n",
      "Loss: 2.305322\n",
      "Loss: 2.301188\n",
      "Loss: 2.303444\n",
      "Loss: 2.304487\n",
      "Loss: 2.304949\n",
      "Loss: 2.303566\n",
      "Loss: 2.304387\n",
      "Loss: 2.304099\n",
      "Loss: 2.303342\n",
      "Loss: 0.036152\n",
      "Accuracy: 0.000000%\n",
      "Epoch 7\n",
      "------------------\n",
      "Loss: 2.302173\n",
      "Loss: 2.304973\n",
      "Loss: 2.301521\n",
      "Loss: 2.303276\n",
      "Loss: 2.304246\n",
      "Loss: 2.304628\n",
      "Loss: 2.303441\n",
      "Loss: 2.304246\n",
      "Loss: 2.303893\n",
      "Loss: 2.303168\n",
      "Loss: 0.036151\n",
      "Accuracy: 0.000000%\n",
      "Epoch 8\n",
      "------------------\n",
      "Loss: 2.302236\n",
      "Loss: 2.304675\n",
      "Loss: 2.301750\n",
      "Loss: 2.303154\n",
      "Loss: 2.304063\n",
      "Loss: 2.304357\n",
      "Loss: 2.303357\n",
      "Loss: 2.304107\n",
      "Loss: 2.303737\n",
      "Loss: 2.303057\n",
      "Loss: 0.036151\n",
      "Accuracy: 0.000000%\n",
      "Epoch 9\n",
      "------------------\n",
      "Loss: 2.302286\n",
      "Loss: 2.304436\n",
      "Loss: 2.301905\n",
      "Loss: 2.303066\n",
      "Loss: 2.303927\n",
      "Loss: 2.304131\n",
      "Loss: 2.303302\n",
      "Loss: 2.303985\n",
      "Loss: 2.303622\n",
      "Loss: 2.302983\n",
      "Loss: 0.036151\n",
      "Accuracy: 0.000000%\n",
      "Epoch 10\n",
      "------------------\n",
      "Loss: 2.302327\n",
      "Loss: 2.304249\n",
      "Loss: 2.302013\n",
      "Loss: 2.302999\n",
      "Loss: 2.303827\n",
      "Loss: 2.303940\n",
      "Loss: 2.303268\n",
      "Loss: 2.303880\n",
      "Loss: 2.303537\n",
      "Loss: 2.302929\n",
      "Loss: 0.036151\n",
      "Accuracy: 0.000000%\n",
      "Epoch 11\n",
      "------------------\n",
      "Loss: 2.302364\n",
      "Loss: 2.304101\n",
      "Loss: 2.302088\n",
      "Loss: 2.302947\n",
      "Loss: 2.303756\n",
      "Loss: 2.303773\n",
      "Loss: 2.303251\n",
      "Loss: 2.303790\n",
      "Loss: 2.303477\n",
      "Loss: 2.302889\n",
      "Loss: 0.036151\n",
      "Accuracy: 0.000000%\n",
      "Epoch 12\n",
      "------------------\n",
      "Loss: 2.302397\n",
      "Loss: 2.303986\n",
      "Loss: 2.302142\n",
      "Loss: 2.302902\n",
      "Loss: 2.303710\n",
      "Loss: 2.303620\n",
      "Loss: 2.303250\n",
      "Loss: 2.303712\n",
      "Loss: 2.303437\n",
      "Loss: 2.302856\n",
      "Loss: 0.036151\n",
      "Accuracy: 0.000000%\n",
      "Epoch 13\n",
      "------------------\n",
      "Loss: 2.302429\n",
      "Loss: 2.303895\n",
      "Loss: 2.302179\n",
      "Loss: 2.302862\n",
      "Loss: 2.303686\n",
      "Loss: 2.303469\n",
      "Loss: 2.303267\n",
      "Loss: 2.303641\n",
      "Loss: 2.303412\n",
      "Loss: 2.302825\n",
      "Loss: 0.036150\n",
      "Accuracy: 0.000000%\n",
      "Epoch 14\n",
      "------------------\n",
      "Loss: 2.302461\n",
      "Loss: 2.303823\n",
      "Loss: 2.302200\n",
      "Loss: 2.302819\n",
      "Loss: 2.303685\n",
      "Loss: 2.303302\n",
      "Loss: 2.303305\n",
      "Loss: 2.303572\n",
      "Loss: 2.303397\n",
      "Loss: 2.302785\n",
      "Loss: 0.036150\n",
      "Accuracy: 6.250000%\n",
      "Epoch 15\n",
      "------------------\n",
      "Loss: 2.302490\n",
      "Loss: 2.303770\n",
      "Loss: 2.302205\n",
      "Loss: 2.302766\n",
      "Loss: 2.303714\n",
      "Loss: 2.303092\n",
      "Loss: 2.303372\n",
      "Loss: 2.303496\n",
      "Loss: 2.303380\n",
      "Loss: 2.302716\n",
      "Loss: 0.036149\n",
      "Accuracy: 6.250000%\n",
      "Epoch 16\n",
      "------------------\n",
      "Loss: 2.302507\n",
      "Loss: 2.303734\n",
      "Loss: 2.302181\n",
      "Loss: 2.302680\n",
      "Loss: 2.303786\n",
      "Loss: 2.302778\n",
      "Loss: 2.303483\n",
      "Loss: 2.303389\n",
      "Loss: 2.303326\n",
      "Loss: 2.302550\n",
      "Loss: 0.036146\n",
      "Accuracy: 6.250000%\n",
      "Epoch 17\n",
      "------------------\n",
      "Loss: 2.302474\n",
      "Loss: 2.303722\n",
      "Loss: 2.302096\n",
      "Loss: 2.302509\n",
      "Loss: 2.303941\n",
      "Loss: 2.302185\n",
      "Loss: 2.303662\n",
      "Loss: 2.303164\n",
      "Loss: 2.303059\n",
      "Loss: 2.302036\n",
      "Loss: 0.036140\n",
      "Accuracy: 6.250000%\n",
      "Epoch 18\n",
      "------------------\n",
      "Loss: 2.302228\n",
      "Loss: 2.303725\n",
      "Loss: 2.301829\n",
      "Loss: 2.302071\n",
      "Loss: 2.304267\n",
      "Loss: 2.300685\n",
      "Loss: 2.303874\n",
      "Loss: 2.302324\n",
      "Loss: 2.301403\n",
      "Loss: 2.299645\n",
      "Loss: 0.036113\n",
      "Accuracy: 6.250000%\n",
      "Epoch 19\n",
      "------------------\n",
      "Loss: 2.300584\n",
      "Loss: 2.303180\n",
      "Loss: 2.300138\n",
      "Loss: 2.299451\n",
      "Loss: 2.303554\n",
      "Loss: 2.284595\n",
      "Loss: 2.297530\n",
      "Loss: 2.278480\n",
      "Loss: 2.233632\n",
      "Loss: 2.230369\n",
      "Loss: 0.034958\n",
      "Accuracy: 25.000000%\n",
      "Epoch 20\n",
      "------------------\n",
      "Loss: 2.220536\n",
      "Loss: 2.232188\n",
      "Loss: 2.193459\n",
      "Loss: 2.121850\n",
      "Loss: 2.128036\n",
      "Loss: 2.124172\n",
      "Loss: 2.077876\n",
      "Loss: 2.090298\n",
      "Loss: 2.060620\n",
      "Loss: 1.973875\n",
      "Loss: 0.031781\n",
      "Accuracy: 56.250000%\n",
      "Epoch 21\n",
      "------------------\n",
      "Loss: 2.093749\n",
      "Loss: 2.076112\n",
      "Loss: 2.004057\n",
      "Loss: 1.944099\n",
      "Loss: 1.937103\n",
      "Loss: 1.958949\n",
      "Loss: 1.887243\n",
      "Loss: 1.923354\n",
      "Loss: 1.951364\n",
      "Loss: 1.855085\n",
      "Loss: 0.029968\n",
      "Accuracy: 68.750000%\n",
      "Epoch 22\n",
      "------------------\n",
      "Loss: 1.963419\n",
      "Loss: 2.014923\n",
      "Loss: 1.908639\n",
      "Loss: 1.888948\n",
      "Loss: 1.889076\n",
      "Loss: 1.869839\n",
      "Loss: 1.825155\n",
      "Loss: 1.815560\n",
      "Loss: 1.838551\n",
      "Loss: 1.776508\n",
      "Loss: 0.028312\n",
      "Accuracy: 75.000000%\n",
      "Epoch 23\n",
      "------------------\n",
      "Loss: 1.815198\n",
      "Loss: 1.879409\n",
      "Loss: 1.804445\n",
      "Loss: 1.840875\n",
      "Loss: 1.760523\n",
      "Loss: 1.791600\n",
      "Loss: 1.759276\n",
      "Loss: 1.742138\n",
      "Loss: 1.734466\n",
      "Loss: 1.759507\n",
      "Loss: 0.027229\n",
      "Accuracy: 81.250000%\n",
      "Epoch 24\n",
      "------------------\n",
      "Loss: 1.706690\n",
      "Loss: 1.773299\n",
      "Loss: 1.685245\n",
      "Loss: 1.758313\n",
      "Loss: 1.746189\n",
      "Loss: 1.693810\n",
      "Loss: 1.692543\n",
      "Loss: 1.716096\n",
      "Loss: 1.678623\n",
      "Loss: 1.706836\n",
      "Loss: 0.026755\n",
      "Accuracy: 87.500000%\n",
      "Epoch 25\n",
      "------------------\n",
      "Loss: 1.680638\n",
      "Loss: 1.726940\n",
      "Loss: 1.634264\n",
      "Loss: 1.721552\n",
      "Loss: 1.716781\n",
      "Loss: 1.673676\n",
      "Loss: 1.665513\n",
      "Loss: 1.701763\n",
      "Loss: 1.674560\n",
      "Loss: 1.701617\n",
      "Loss: 0.026429\n",
      "Accuracy: 87.500000%\n",
      "Epoch 26\n",
      "------------------\n",
      "Loss: 1.668527\n",
      "Loss: 1.689088\n",
      "Loss: 1.608587\n",
      "Loss: 1.704242\n",
      "Loss: 1.687048\n",
      "Loss: 1.661839\n",
      "Loss: 1.650690\n",
      "Loss: 1.701858\n",
      "Loss: 1.671448\n",
      "Loss: 1.674664\n",
      "Loss: 0.026332\n",
      "Accuracy: 87.500000%\n",
      "Epoch 27\n",
      "------------------\n",
      "Loss: 1.659536\n",
      "Loss: 1.676904\n",
      "Loss: 1.609017\n",
      "Loss: 1.689662\n",
      "Loss: 1.682447\n",
      "Loss: 1.645630\n",
      "Loss: 1.646377\n",
      "Loss: 1.680824\n",
      "Loss: 1.696059\n",
      "Loss: 1.652608\n",
      "Loss: 0.026255\n",
      "Accuracy: 87.500000%\n",
      "Epoch 28\n",
      "------------------\n",
      "Loss: 1.645066\n",
      "Loss: 1.656400\n",
      "Loss: 1.610291\n",
      "Loss: 1.695817\n",
      "Loss: 1.681718\n",
      "Loss: 1.635343\n",
      "Loss: 1.644449\n",
      "Loss: 1.688976\n",
      "Loss: 1.670255\n",
      "Loss: 1.648060\n",
      "Loss: 0.026311\n",
      "Accuracy: 87.500000%\n",
      "Epoch 29\n",
      "------------------\n",
      "Loss: 1.684925\n",
      "Loss: 1.665282\n",
      "Loss: 1.611006\n",
      "Loss: 1.669486\n",
      "Loss: 1.708080\n",
      "Loss: 1.627141\n",
      "Loss: 1.641015\n",
      "Loss: 1.680182\n",
      "Loss: 1.638258\n",
      "Loss: 1.660129\n",
      "Loss: 0.026153\n",
      "Accuracy: 87.500000%\n",
      "Epoch 30\n",
      "------------------\n",
      "Loss: 1.645715\n",
      "Loss: 1.666262\n",
      "Loss: 1.603908\n",
      "Loss: 1.654619\n",
      "Loss: 1.694748\n",
      "Loss: 1.622847\n",
      "Loss: 1.623894\n",
      "Loss: 1.681227\n",
      "Loss: 1.645527\n",
      "Loss: 1.652282\n",
      "Loss: 0.026136\n",
      "Accuracy: 87.500000%\n",
      "Epoch 31\n",
      "------------------\n",
      "Loss: 1.647514\n",
      "Loss: 1.666397\n",
      "Loss: 1.606366\n",
      "Loss: 1.645878\n",
      "Loss: 1.685224\n",
      "Loss: 1.621001\n",
      "Loss: 1.601398\n",
      "Loss: 1.676100\n",
      "Loss: 1.635846\n",
      "Loss: 1.644063\n",
      "Loss: 0.026073\n",
      "Accuracy: 87.500000%\n",
      "Epoch 32\n",
      "------------------\n",
      "Loss: 1.645279\n",
      "Loss: 1.669863\n",
      "Loss: 1.621189\n",
      "Loss: 1.663630\n",
      "Loss: 1.666802\n",
      "Loss: 1.617990\n",
      "Loss: 1.592360\n",
      "Loss: 1.670685\n",
      "Loss: 1.624007\n",
      "Loss: 1.645994\n"
     ]
    },
    {
     "ename": "KeyboardInterrupt",
     "evalue": "",
     "output_type": "error",
     "traceback": [
      "\u001B[0;31m---------------------------------------------------------------------------\u001B[0m",
      "\u001B[0;31mKeyboardInterrupt\u001B[0m                         Traceback (most recent call last)",
      "Cell \u001B[0;32mIn[34], line 7\u001B[0m\n\u001B[1;32m      4\u001B[0m \u001B[38;5;28mprint\u001B[39m(\u001B[38;5;124mf\u001B[39m\u001B[38;5;124m'\u001B[39m\u001B[38;5;124mEpoch \u001B[39m\u001B[38;5;132;01m{\u001B[39;00me\u001B[38;5;241m+\u001B[39m\u001B[38;5;241m1\u001B[39m\u001B[38;5;132;01m}\u001B[39;00m\u001B[38;5;130;01m\\n\u001B[39;00m\u001B[38;5;124m------------------\u001B[39m\u001B[38;5;124m'\u001B[39m)\n\u001B[1;32m      6\u001B[0m trainer\u001B[38;5;241m.\u001B[39mtrain(train_loader)\n\u001B[0;32m----> 7\u001B[0m trainer\u001B[38;5;241m.\u001B[39mtest(test_loader)\n",
      "File \u001B[0;32m~/Projects/ZooCV/trainer/simple_trainer.py:32\u001B[0m, in \u001B[0;36mSimpleTrainer.test\u001B[0;34m(self, loader)\u001B[0m\n\u001B[1;32m     30\u001B[0m correct \u001B[38;5;241m=\u001B[39m \u001B[38;5;241m0\u001B[39m\n\u001B[1;32m     31\u001B[0m \u001B[38;5;28;01mwith\u001B[39;00m torch\u001B[38;5;241m.\u001B[39mno_grad():\n\u001B[0;32m---> 32\u001B[0m     \u001B[38;5;28;01mfor\u001B[39;00m batch, (ims, labels_true) \u001B[38;5;129;01min\u001B[39;00m \u001B[38;5;28menumerate\u001B[39m(loader):\n\u001B[1;32m     33\u001B[0m         ims, labels_true \u001B[38;5;241m=\u001B[39m ims\u001B[38;5;241m.\u001B[39mto(\u001B[38;5;28mself\u001B[39m\u001B[38;5;241m.\u001B[39mdevice), labels_true\u001B[38;5;241m.\u001B[39mto(\u001B[38;5;28mself\u001B[39m\u001B[38;5;241m.\u001B[39mdevice)\n\u001B[1;32m     34\u001B[0m         pred \u001B[38;5;241m=\u001B[39m \u001B[38;5;28mself\u001B[39m\u001B[38;5;241m.\u001B[39mmodel(ims)\n",
      "File \u001B[0;32m~/miniconda3/envs/zoocv/lib/python3.11/site-packages/torch/utils/data/dataloader.py:631\u001B[0m, in \u001B[0;36m_BaseDataLoaderIter.__next__\u001B[0;34m(self)\u001B[0m\n\u001B[1;32m    628\u001B[0m \u001B[38;5;28;01mif\u001B[39;00m \u001B[38;5;28mself\u001B[39m\u001B[38;5;241m.\u001B[39m_sampler_iter \u001B[38;5;129;01mis\u001B[39;00m \u001B[38;5;28;01mNone\u001B[39;00m:\n\u001B[1;32m    629\u001B[0m     \u001B[38;5;66;03m# TODO(https://github.com/pytorch/pytorch/issues/76750)\u001B[39;00m\n\u001B[1;32m    630\u001B[0m     \u001B[38;5;28mself\u001B[39m\u001B[38;5;241m.\u001B[39m_reset()  \u001B[38;5;66;03m# type: ignore[call-arg]\u001B[39;00m\n\u001B[0;32m--> 631\u001B[0m data \u001B[38;5;241m=\u001B[39m \u001B[38;5;28mself\u001B[39m\u001B[38;5;241m.\u001B[39m_next_data()\n\u001B[1;32m    632\u001B[0m \u001B[38;5;28mself\u001B[39m\u001B[38;5;241m.\u001B[39m_num_yielded \u001B[38;5;241m+\u001B[39m\u001B[38;5;241m=\u001B[39m \u001B[38;5;241m1\u001B[39m\n\u001B[1;32m    633\u001B[0m \u001B[38;5;28;01mif\u001B[39;00m \u001B[38;5;28mself\u001B[39m\u001B[38;5;241m.\u001B[39m_dataset_kind \u001B[38;5;241m==\u001B[39m _DatasetKind\u001B[38;5;241m.\u001B[39mIterable \u001B[38;5;129;01mand\u001B[39;00m \\\n\u001B[1;32m    634\u001B[0m         \u001B[38;5;28mself\u001B[39m\u001B[38;5;241m.\u001B[39m_IterableDataset_len_called \u001B[38;5;129;01mis\u001B[39;00m \u001B[38;5;129;01mnot\u001B[39;00m \u001B[38;5;28;01mNone\u001B[39;00m \u001B[38;5;129;01mand\u001B[39;00m \\\n\u001B[1;32m    635\u001B[0m         \u001B[38;5;28mself\u001B[39m\u001B[38;5;241m.\u001B[39m_num_yielded \u001B[38;5;241m>\u001B[39m \u001B[38;5;28mself\u001B[39m\u001B[38;5;241m.\u001B[39m_IterableDataset_len_called:\n",
      "File \u001B[0;32m~/miniconda3/envs/zoocv/lib/python3.11/site-packages/torch/utils/data/dataloader.py:675\u001B[0m, in \u001B[0;36m_SingleProcessDataLoaderIter._next_data\u001B[0;34m(self)\u001B[0m\n\u001B[1;32m    673\u001B[0m \u001B[38;5;28;01mdef\u001B[39;00m \u001B[38;5;21m_next_data\u001B[39m(\u001B[38;5;28mself\u001B[39m):\n\u001B[1;32m    674\u001B[0m     index \u001B[38;5;241m=\u001B[39m \u001B[38;5;28mself\u001B[39m\u001B[38;5;241m.\u001B[39m_next_index()  \u001B[38;5;66;03m# may raise StopIteration\u001B[39;00m\n\u001B[0;32m--> 675\u001B[0m     data \u001B[38;5;241m=\u001B[39m \u001B[38;5;28mself\u001B[39m\u001B[38;5;241m.\u001B[39m_dataset_fetcher\u001B[38;5;241m.\u001B[39mfetch(index)  \u001B[38;5;66;03m# may raise StopIteration\u001B[39;00m\n\u001B[1;32m    676\u001B[0m     \u001B[38;5;28;01mif\u001B[39;00m \u001B[38;5;28mself\u001B[39m\u001B[38;5;241m.\u001B[39m_pin_memory:\n\u001B[1;32m    677\u001B[0m         data \u001B[38;5;241m=\u001B[39m _utils\u001B[38;5;241m.\u001B[39mpin_memory\u001B[38;5;241m.\u001B[39mpin_memory(data, \u001B[38;5;28mself\u001B[39m\u001B[38;5;241m.\u001B[39m_pin_memory_device)\n",
      "File \u001B[0;32m~/miniconda3/envs/zoocv/lib/python3.11/site-packages/torch/utils/data/_utils/fetch.py:51\u001B[0m, in \u001B[0;36m_MapDatasetFetcher.fetch\u001B[0;34m(self, possibly_batched_index)\u001B[0m\n\u001B[1;32m     49\u001B[0m         data \u001B[38;5;241m=\u001B[39m \u001B[38;5;28mself\u001B[39m\u001B[38;5;241m.\u001B[39mdataset\u001B[38;5;241m.\u001B[39m__getitems__(possibly_batched_index)\n\u001B[1;32m     50\u001B[0m     \u001B[38;5;28;01melse\u001B[39;00m:\n\u001B[0;32m---> 51\u001B[0m         data \u001B[38;5;241m=\u001B[39m [\u001B[38;5;28mself\u001B[39m\u001B[38;5;241m.\u001B[39mdataset[idx] \u001B[38;5;28;01mfor\u001B[39;00m idx \u001B[38;5;129;01min\u001B[39;00m possibly_batched_index]\n\u001B[1;32m     52\u001B[0m \u001B[38;5;28;01melse\u001B[39;00m:\n\u001B[1;32m     53\u001B[0m     data \u001B[38;5;241m=\u001B[39m \u001B[38;5;28mself\u001B[39m\u001B[38;5;241m.\u001B[39mdataset[possibly_batched_index]\n",
      "File \u001B[0;32m~/miniconda3/envs/zoocv/lib/python3.11/site-packages/torch/utils/data/_utils/fetch.py:51\u001B[0m, in \u001B[0;36m<listcomp>\u001B[0;34m(.0)\u001B[0m\n\u001B[1;32m     49\u001B[0m         data \u001B[38;5;241m=\u001B[39m \u001B[38;5;28mself\u001B[39m\u001B[38;5;241m.\u001B[39mdataset\u001B[38;5;241m.\u001B[39m__getitems__(possibly_batched_index)\n\u001B[1;32m     50\u001B[0m     \u001B[38;5;28;01melse\u001B[39;00m:\n\u001B[0;32m---> 51\u001B[0m         data \u001B[38;5;241m=\u001B[39m [\u001B[38;5;28mself\u001B[39m\u001B[38;5;241m.\u001B[39mdataset[idx] \u001B[38;5;28;01mfor\u001B[39;00m idx \u001B[38;5;129;01min\u001B[39;00m possibly_batched_index]\n\u001B[1;32m     52\u001B[0m \u001B[38;5;28;01melse\u001B[39;00m:\n\u001B[1;32m     53\u001B[0m     data \u001B[38;5;241m=\u001B[39m \u001B[38;5;28mself\u001B[39m\u001B[38;5;241m.\u001B[39mdataset[possibly_batched_index]\n",
      "File \u001B[0;32m~/miniconda3/envs/zoocv/lib/python3.11/site-packages/torchvision/datasets/mnist.py:146\u001B[0m, in \u001B[0;36mMNIST.__getitem__\u001B[0;34m(self, index)\u001B[0m\n\u001B[1;32m    143\u001B[0m img \u001B[38;5;241m=\u001B[39m Image\u001B[38;5;241m.\u001B[39mfromarray(img\u001B[38;5;241m.\u001B[39mnumpy(), mode\u001B[38;5;241m=\u001B[39m\u001B[38;5;124m\"\u001B[39m\u001B[38;5;124mL\u001B[39m\u001B[38;5;124m\"\u001B[39m)\n\u001B[1;32m    145\u001B[0m \u001B[38;5;28;01mif\u001B[39;00m \u001B[38;5;28mself\u001B[39m\u001B[38;5;241m.\u001B[39mtransform \u001B[38;5;129;01mis\u001B[39;00m \u001B[38;5;129;01mnot\u001B[39;00m \u001B[38;5;28;01mNone\u001B[39;00m:\n\u001B[0;32m--> 146\u001B[0m     img \u001B[38;5;241m=\u001B[39m \u001B[38;5;28mself\u001B[39m\u001B[38;5;241m.\u001B[39mtransform(img)\n\u001B[1;32m    148\u001B[0m \u001B[38;5;28;01mif\u001B[39;00m \u001B[38;5;28mself\u001B[39m\u001B[38;5;241m.\u001B[39mtarget_transform \u001B[38;5;129;01mis\u001B[39;00m \u001B[38;5;129;01mnot\u001B[39;00m \u001B[38;5;28;01mNone\u001B[39;00m:\n\u001B[1;32m    149\u001B[0m     target \u001B[38;5;241m=\u001B[39m \u001B[38;5;28mself\u001B[39m\u001B[38;5;241m.\u001B[39mtarget_transform(target)\n",
      "File \u001B[0;32m~/miniconda3/envs/zoocv/lib/python3.11/site-packages/torchvision/transforms/transforms.py:137\u001B[0m, in \u001B[0;36mToTensor.__call__\u001B[0;34m(self, pic)\u001B[0m\n\u001B[1;32m    129\u001B[0m \u001B[38;5;28;01mdef\u001B[39;00m \u001B[38;5;21m__call__\u001B[39m(\u001B[38;5;28mself\u001B[39m, pic):\n\u001B[1;32m    130\u001B[0m \u001B[38;5;250m    \u001B[39m\u001B[38;5;124;03m\"\"\"\u001B[39;00m\n\u001B[1;32m    131\u001B[0m \u001B[38;5;124;03m    Args:\u001B[39;00m\n\u001B[1;32m    132\u001B[0m \u001B[38;5;124;03m        pic (PIL Image or numpy.ndarray): Image to be converted to tensor.\u001B[39;00m\n\u001B[0;32m   (...)\u001B[0m\n\u001B[1;32m    135\u001B[0m \u001B[38;5;124;03m        Tensor: Converted image.\u001B[39;00m\n\u001B[1;32m    136\u001B[0m \u001B[38;5;124;03m    \"\"\"\u001B[39;00m\n\u001B[0;32m--> 137\u001B[0m     \u001B[38;5;28;01mreturn\u001B[39;00m F\u001B[38;5;241m.\u001B[39mto_tensor(pic)\n",
      "File \u001B[0;32m~/miniconda3/envs/zoocv/lib/python3.11/site-packages/torchvision/transforms/functional.py:174\u001B[0m, in \u001B[0;36mto_tensor\u001B[0;34m(pic)\u001B[0m\n\u001B[1;32m    172\u001B[0m img \u001B[38;5;241m=\u001B[39m img\u001B[38;5;241m.\u001B[39mview(pic\u001B[38;5;241m.\u001B[39msize[\u001B[38;5;241m1\u001B[39m], pic\u001B[38;5;241m.\u001B[39msize[\u001B[38;5;241m0\u001B[39m], F_pil\u001B[38;5;241m.\u001B[39mget_image_num_channels(pic))\n\u001B[1;32m    173\u001B[0m \u001B[38;5;66;03m# put it from HWC to CHW format\u001B[39;00m\n\u001B[0;32m--> 174\u001B[0m img \u001B[38;5;241m=\u001B[39m img\u001B[38;5;241m.\u001B[39mpermute((\u001B[38;5;241m2\u001B[39m, \u001B[38;5;241m0\u001B[39m, \u001B[38;5;241m1\u001B[39m))\u001B[38;5;241m.\u001B[39mcontiguous()\n\u001B[1;32m    175\u001B[0m \u001B[38;5;28;01mif\u001B[39;00m \u001B[38;5;28misinstance\u001B[39m(img, torch\u001B[38;5;241m.\u001B[39mByteTensor):\n\u001B[1;32m    176\u001B[0m     \u001B[38;5;28;01mreturn\u001B[39;00m img\u001B[38;5;241m.\u001B[39mto(dtype\u001B[38;5;241m=\u001B[39mdefault_float_dtype)\u001B[38;5;241m.\u001B[39mdiv(\u001B[38;5;241m255\u001B[39m)\n",
      "\u001B[0;31mKeyboardInterrupt\u001B[0m: "
     ]
    }
   ],
   "execution_count": 34
  },
  {
   "metadata": {},
   "cell_type": "markdown",
   "source": "# Тестирование",
   "id": "804ed474f234296f"
  },
  {
   "metadata": {
    "ExecuteTime": {
     "end_time": "2024-07-31T18:55:02.376281Z",
     "start_time": "2024-07-31T18:55:01.188893Z"
    }
   },
   "cell_type": "code",
   "source": "trainer.test(test_loader)",
   "id": "6ba7b1fe59bafff9",
   "outputs": [
    {
     "name": "stdout",
     "output_type": "stream",
     "text": [
      "Loss: 0.025986\n",
      "Accuracy: 87.500000%\n"
     ]
    }
   ],
   "execution_count": 35
  },
  {
   "metadata": {},
   "cell_type": "markdown",
   "source": "## Сохранение весов",
   "id": "46cd58cb1292a9a5"
  },
  {
   "metadata": {},
   "cell_type": "code",
   "outputs": [],
   "execution_count": 12,
   "source": "torch.save(model.state_dict(), 'weights/lenet5/FashionMNIT.pth')",
   "id": "c144d898db6603a0"
  },
  {
   "metadata": {},
   "cell_type": "markdown",
   "source": "# MNIST",
   "id": "d9a25917cd35bc9b"
  },
  {
   "metadata": {
    "ExecuteTime": {
     "end_time": "2024-07-31T18:57:37.218172Z",
     "start_time": "2024-07-31T18:57:37.091009Z"
    }
   },
   "cell_type": "code",
   "source": [
    "train_data = datasets.MNIST(\n",
    "    root='data/',\n",
    "    train=True,\n",
    "    download=True,\n",
    "    transform=transforms.ToTensor(),\n",
    ")\n",
    "\n",
    "test_data = datasets.MNIST(\n",
    "    root='data/',\n",
    "    train=False,\n",
    "    download=True,\n",
    "    transform=transforms.ToTensor(),\n",
    ")"
   ],
   "id": "7d1e8586de36ad53",
   "outputs": [],
   "execution_count": 44
  },
  {
   "metadata": {
    "ExecuteTime": {
     "end_time": "2024-07-31T20:35:39.861660Z",
     "start_time": "2024-07-31T20:35:39.704941Z"
    }
   },
   "cell_type": "code",
   "source": [
    "im = train_data[0][0]\n",
    "im = im.permute(1, 2, 0).detach().cpu().numpy()\n",
    "plt.imshow(im)"
   ],
   "id": "9d44c898aa1c9b52",
   "outputs": [
    {
     "data": {
      "text/plain": [
       "<matplotlib.image.AxesImage at 0x7f68d01422d0>"
      ]
     },
     "execution_count": 129,
     "metadata": {},
     "output_type": "execute_result"
    },
    {
     "data": {
      "text/plain": [
       "<Figure size 640x480 with 1 Axes>"
      ],
      "image/png": "[encoded data removed]"
     },
     "metadata": {},
     "output_type": "display_data"
    }
   ],
   "execution_count": 129
  },
  {
   "metadata": {
    "ExecuteTime": {
     "end_time": "2024-07-31T19:13:47.690903Z",
     "start_time": "2024-07-31T19:13:47.640250Z"
    }
   },
   "cell_type": "code",
   "source": [
    "batch_size = 64\n",
    "train_loader = DataLoader(train_data, batch_size=batch_size)\n",
    "test_loader = DataLoader(test_data, batch_size=batch_size)"
   ],
   "id": "d2d113f55d703274",
   "outputs": [],
   "execution_count": 56
  },
  {
   "metadata": {
    "ExecuteTime": {
     "end_time": "2024-07-31T18:58:10.351781Z",
     "start_time": "2024-07-31T18:58:10.308212Z"
    }
   },
   "cell_type": "code",
   "source": [
    "model = LeNet5()\n",
    "optimizer = SGD(model.parameters(), lr=0.1, momentum=0.9)\n",
    "loss_fn = CrossEntropyLoss()"
   ],
   "id": "2f0c7dc25f7cd6e3",
   "outputs": [],
   "execution_count": 48
  },
  {
   "metadata": {
    "ExecuteTime": {
     "end_time": "2024-07-31T18:58:20.439349Z",
     "start_time": "2024-07-31T18:58:20.410906Z"
    }
   },
   "cell_type": "code",
   "source": [
    "trainer = SimpleTrainer(model, loss_fn=loss_fn, optimizer=optimizer)\n",
    "trainer.set_metrics([Accuracy()])"
   ],
   "id": "16ac0ffc84694601",
   "outputs": [],
   "execution_count": 50
  },
  {
   "metadata": {
    "ExecuteTime": {
     "end_time": "2024-07-31T20:10:04.540532Z",
     "start_time": "2024-07-31T20:09:29.780199Z"
    }
   },
   "cell_type": "code",
   "source": [
    "epochs = 20\n",
    "\n",
    "for e in range(epochs):\n",
    "    print(f'Epoch {e+1}\\n------------------')\n",
    "\n",
    "    trainer.train(train_loader)\n",
    "    trainer.test(test_loader)"
   ],
   "id": "e02189e2ae5c0908",
   "outputs": [
    {
     "name": "stdout",
     "output_type": "stream",
     "text": [
      "Epoch 1\n",
      "------------------\n",
      "Loss: 1.592176\n",
      "Loss: 1.617027\n",
      "Loss: 1.668752\n"
     ]
    },
    {
     "ename": "KeyboardInterrupt",
     "evalue": "",
     "output_type": "error",
     "traceback": [
      "\u001B[0;31m---------------------------------------------------------------------------\u001B[0m",
      "\u001B[0;31mKeyboardInterrupt\u001B[0m                         Traceback (most recent call last)",
      "Cell \u001B[0;32mIn[68], line 6\u001B[0m\n\u001B[1;32m      3\u001B[0m \u001B[38;5;28;01mfor\u001B[39;00m e \u001B[38;5;129;01min\u001B[39;00m \u001B[38;5;28mrange\u001B[39m(epochs):\n\u001B[1;32m      4\u001B[0m     \u001B[38;5;28mprint\u001B[39m(\u001B[38;5;124mf\u001B[39m\u001B[38;5;124m'\u001B[39m\u001B[38;5;124mEpoch \u001B[39m\u001B[38;5;132;01m{\u001B[39;00me\u001B[38;5;241m+\u001B[39m\u001B[38;5;241m1\u001B[39m\u001B[38;5;132;01m}\u001B[39;00m\u001B[38;5;130;01m\\n\u001B[39;00m\u001B[38;5;124m------------------\u001B[39m\u001B[38;5;124m'\u001B[39m)\n\u001B[0;32m----> 6\u001B[0m     trainer\u001B[38;5;241m.\u001B[39mtrain(train_loader)\n\u001B[1;32m      7\u001B[0m     trainer\u001B[38;5;241m.\u001B[39mtest(test_loader)\n",
      "File \u001B[0;32m~/Projects/ZooCV/trainer/simple_trainer.py:13\u001B[0m, in \u001B[0;36mSimpleTrainer.train\u001B[0;34m(self, loader)\u001B[0m\n\u001B[1;32m     10\u001B[0m \u001B[38;5;28;01mdef\u001B[39;00m \u001B[38;5;21mtrain\u001B[39m(\u001B[38;5;28mself\u001B[39m, loader):\n\u001B[1;32m     11\u001B[0m     \u001B[38;5;28mself\u001B[39m\u001B[38;5;241m.\u001B[39mmodel\u001B[38;5;241m.\u001B[39mtrain()\n\u001B[0;32m---> 13\u001B[0m     \u001B[38;5;28;01mfor\u001B[39;00m batch, (X, y) \u001B[38;5;129;01min\u001B[39;00m \u001B[38;5;28menumerate\u001B[39m(loader):\n\u001B[1;32m     14\u001B[0m         X, y \u001B[38;5;241m=\u001B[39m X\u001B[38;5;241m.\u001B[39mto(\u001B[38;5;28mself\u001B[39m\u001B[38;5;241m.\u001B[39mdevice), y\u001B[38;5;241m.\u001B[39mto(\u001B[38;5;28mself\u001B[39m\u001B[38;5;241m.\u001B[39mdevice)\n\u001B[1;32m     16\u001B[0m         pred \u001B[38;5;241m=\u001B[39m \u001B[38;5;28mself\u001B[39m\u001B[38;5;241m.\u001B[39mmodel(X)\n",
      "File \u001B[0;32m~/miniconda3/envs/zoocv/lib/python3.11/site-packages/torch/utils/data/dataloader.py:631\u001B[0m, in \u001B[0;36m_BaseDataLoaderIter.__next__\u001B[0;34m(self)\u001B[0m\n\u001B[1;32m    628\u001B[0m \u001B[38;5;28;01mif\u001B[39;00m \u001B[38;5;28mself\u001B[39m\u001B[38;5;241m.\u001B[39m_sampler_iter \u001B[38;5;129;01mis\u001B[39;00m \u001B[38;5;28;01mNone\u001B[39;00m:\n\u001B[1;32m    629\u001B[0m     \u001B[38;5;66;03m# TODO(https://github.com/pytorch/pytorch/issues/76750)\u001B[39;00m\n\u001B[1;32m    630\u001B[0m     \u001B[38;5;28mself\u001B[39m\u001B[38;5;241m.\u001B[39m_reset()  \u001B[38;5;66;03m# type: ignore[call-arg]\u001B[39;00m\n\u001B[0;32m--> 631\u001B[0m data \u001B[38;5;241m=\u001B[39m \u001B[38;5;28mself\u001B[39m\u001B[38;5;241m.\u001B[39m_next_data()\n\u001B[1;32m    632\u001B[0m \u001B[38;5;28mself\u001B[39m\u001B[38;5;241m.\u001B[39m_num_yielded \u001B[38;5;241m+\u001B[39m\u001B[38;5;241m=\u001B[39m \u001B[38;5;241m1\u001B[39m\n\u001B[1;32m    633\u001B[0m \u001B[38;5;28;01mif\u001B[39;00m \u001B[38;5;28mself\u001B[39m\u001B[38;5;241m.\u001B[39m_dataset_kind \u001B[38;5;241m==\u001B[39m _DatasetKind\u001B[38;5;241m.\u001B[39mIterable \u001B[38;5;129;01mand\u001B[39;00m \\\n\u001B[1;32m    634\u001B[0m         \u001B[38;5;28mself\u001B[39m\u001B[38;5;241m.\u001B[39m_IterableDataset_len_called \u001B[38;5;129;01mis\u001B[39;00m \u001B[38;5;129;01mnot\u001B[39;00m \u001B[38;5;28;01mNone\u001B[39;00m \u001B[38;5;129;01mand\u001B[39;00m \\\n\u001B[1;32m    635\u001B[0m         \u001B[38;5;28mself\u001B[39m\u001B[38;5;241m.\u001B[39m_num_yielded \u001B[38;5;241m>\u001B[39m \u001B[38;5;28mself\u001B[39m\u001B[38;5;241m.\u001B[39m_IterableDataset_len_called:\n",
      "File \u001B[0;32m~/miniconda3/envs/zoocv/lib/python3.11/site-packages/torch/utils/data/dataloader.py:675\u001B[0m, in \u001B[0;36m_SingleProcessDataLoaderIter._next_data\u001B[0;34m(self)\u001B[0m\n\u001B[1;32m    673\u001B[0m \u001B[38;5;28;01mdef\u001B[39;00m \u001B[38;5;21m_next_data\u001B[39m(\u001B[38;5;28mself\u001B[39m):\n\u001B[1;32m    674\u001B[0m     index \u001B[38;5;241m=\u001B[39m \u001B[38;5;28mself\u001B[39m\u001B[38;5;241m.\u001B[39m_next_index()  \u001B[38;5;66;03m# may raise StopIteration\u001B[39;00m\n\u001B[0;32m--> 675\u001B[0m     data \u001B[38;5;241m=\u001B[39m \u001B[38;5;28mself\u001B[39m\u001B[38;5;241m.\u001B[39m_dataset_fetcher\u001B[38;5;241m.\u001B[39mfetch(index)  \u001B[38;5;66;03m# may raise StopIteration\u001B[39;00m\n\u001B[1;32m    676\u001B[0m     \u001B[38;5;28;01mif\u001B[39;00m \u001B[38;5;28mself\u001B[39m\u001B[38;5;241m.\u001B[39m_pin_memory:\n\u001B[1;32m    677\u001B[0m         data \u001B[38;5;241m=\u001B[39m _utils\u001B[38;5;241m.\u001B[39mpin_memory\u001B[38;5;241m.\u001B[39mpin_memory(data, \u001B[38;5;28mself\u001B[39m\u001B[38;5;241m.\u001B[39m_pin_memory_device)\n",
      "File \u001B[0;32m~/miniconda3/envs/zoocv/lib/python3.11/site-packages/torch/utils/data/_utils/fetch.py:51\u001B[0m, in \u001B[0;36m_MapDatasetFetcher.fetch\u001B[0;34m(self, possibly_batched_index)\u001B[0m\n\u001B[1;32m     49\u001B[0m         data \u001B[38;5;241m=\u001B[39m \u001B[38;5;28mself\u001B[39m\u001B[38;5;241m.\u001B[39mdataset\u001B[38;5;241m.\u001B[39m__getitems__(possibly_batched_index)\n\u001B[1;32m     50\u001B[0m     \u001B[38;5;28;01melse\u001B[39;00m:\n\u001B[0;32m---> 51\u001B[0m         data \u001B[38;5;241m=\u001B[39m [\u001B[38;5;28mself\u001B[39m\u001B[38;5;241m.\u001B[39mdataset[idx] \u001B[38;5;28;01mfor\u001B[39;00m idx \u001B[38;5;129;01min\u001B[39;00m possibly_batched_index]\n\u001B[1;32m     52\u001B[0m \u001B[38;5;28;01melse\u001B[39;00m:\n\u001B[1;32m     53\u001B[0m     data \u001B[38;5;241m=\u001B[39m \u001B[38;5;28mself\u001B[39m\u001B[38;5;241m.\u001B[39mdataset[possibly_batched_index]\n",
      "File \u001B[0;32m~/miniconda3/envs/zoocv/lib/python3.11/site-packages/torch/utils/data/_utils/fetch.py:51\u001B[0m, in \u001B[0;36m<listcomp>\u001B[0;34m(.0)\u001B[0m\n\u001B[1;32m     49\u001B[0m         data \u001B[38;5;241m=\u001B[39m \u001B[38;5;28mself\u001B[39m\u001B[38;5;241m.\u001B[39mdataset\u001B[38;5;241m.\u001B[39m__getitems__(possibly_batched_index)\n\u001B[1;32m     50\u001B[0m     \u001B[38;5;28;01melse\u001B[39;00m:\n\u001B[0;32m---> 51\u001B[0m         data \u001B[38;5;241m=\u001B[39m [\u001B[38;5;28mself\u001B[39m\u001B[38;5;241m.\u001B[39mdataset[idx] \u001B[38;5;28;01mfor\u001B[39;00m idx \u001B[38;5;129;01min\u001B[39;00m possibly_batched_index]\n\u001B[1;32m     52\u001B[0m \u001B[38;5;28;01melse\u001B[39;00m:\n\u001B[1;32m     53\u001B[0m     data \u001B[38;5;241m=\u001B[39m \u001B[38;5;28mself\u001B[39m\u001B[38;5;241m.\u001B[39mdataset[possibly_batched_index]\n",
      "File \u001B[0;32m~/miniconda3/envs/zoocv/lib/python3.11/site-packages/torchvision/datasets/mnist.py:146\u001B[0m, in \u001B[0;36mMNIST.__getitem__\u001B[0;34m(self, index)\u001B[0m\n\u001B[1;32m    143\u001B[0m img \u001B[38;5;241m=\u001B[39m Image\u001B[38;5;241m.\u001B[39mfromarray(img\u001B[38;5;241m.\u001B[39mnumpy(), mode\u001B[38;5;241m=\u001B[39m\u001B[38;5;124m\"\u001B[39m\u001B[38;5;124mL\u001B[39m\u001B[38;5;124m\"\u001B[39m)\n\u001B[1;32m    145\u001B[0m \u001B[38;5;28;01mif\u001B[39;00m \u001B[38;5;28mself\u001B[39m\u001B[38;5;241m.\u001B[39mtransform \u001B[38;5;129;01mis\u001B[39;00m \u001B[38;5;129;01mnot\u001B[39;00m \u001B[38;5;28;01mNone\u001B[39;00m:\n\u001B[0;32m--> 146\u001B[0m     img \u001B[38;5;241m=\u001B[39m \u001B[38;5;28mself\u001B[39m\u001B[38;5;241m.\u001B[39mtransform(img)\n\u001B[1;32m    148\u001B[0m \u001B[38;5;28;01mif\u001B[39;00m \u001B[38;5;28mself\u001B[39m\u001B[38;5;241m.\u001B[39mtarget_transform \u001B[38;5;129;01mis\u001B[39;00m \u001B[38;5;129;01mnot\u001B[39;00m \u001B[38;5;28;01mNone\u001B[39;00m:\n\u001B[1;32m    149\u001B[0m     target \u001B[38;5;241m=\u001B[39m \u001B[38;5;28mself\u001B[39m\u001B[38;5;241m.\u001B[39mtarget_transform(target)\n",
      "File \u001B[0;32m~/miniconda3/envs/zoocv/lib/python3.11/site-packages/torchvision/transforms/transforms.py:137\u001B[0m, in \u001B[0;36mToTensor.__call__\u001B[0;34m(self, pic)\u001B[0m\n\u001B[1;32m    129\u001B[0m \u001B[38;5;28;01mdef\u001B[39;00m \u001B[38;5;21m__call__\u001B[39m(\u001B[38;5;28mself\u001B[39m, pic):\n\u001B[1;32m    130\u001B[0m \u001B[38;5;250m    \u001B[39m\u001B[38;5;124;03m\"\"\"\u001B[39;00m\n\u001B[1;32m    131\u001B[0m \u001B[38;5;124;03m    Args:\u001B[39;00m\n\u001B[1;32m    132\u001B[0m \u001B[38;5;124;03m        pic (PIL Image or numpy.ndarray): Image to be converted to tensor.\u001B[39;00m\n\u001B[0;32m   (...)\u001B[0m\n\u001B[1;32m    135\u001B[0m \u001B[38;5;124;03m        Tensor: Converted image.\u001B[39;00m\n\u001B[1;32m    136\u001B[0m \u001B[38;5;124;03m    \"\"\"\u001B[39;00m\n\u001B[0;32m--> 137\u001B[0m     \u001B[38;5;28;01mreturn\u001B[39;00m F\u001B[38;5;241m.\u001B[39mto_tensor(pic)\n",
      "File \u001B[0;32m~/miniconda3/envs/zoocv/lib/python3.11/site-packages/torchvision/transforms/functional.py:176\u001B[0m, in \u001B[0;36mto_tensor\u001B[0;34m(pic)\u001B[0m\n\u001B[1;32m    174\u001B[0m img \u001B[38;5;241m=\u001B[39m img\u001B[38;5;241m.\u001B[39mpermute((\u001B[38;5;241m2\u001B[39m, \u001B[38;5;241m0\u001B[39m, \u001B[38;5;241m1\u001B[39m))\u001B[38;5;241m.\u001B[39mcontiguous()\n\u001B[1;32m    175\u001B[0m \u001B[38;5;28;01mif\u001B[39;00m \u001B[38;5;28misinstance\u001B[39m(img, torch\u001B[38;5;241m.\u001B[39mByteTensor):\n\u001B[0;32m--> 176\u001B[0m     \u001B[38;5;28;01mreturn\u001B[39;00m img\u001B[38;5;241m.\u001B[39mto(dtype\u001B[38;5;241m=\u001B[39mdefault_float_dtype)\u001B[38;5;241m.\u001B[39mdiv(\u001B[38;5;241m255\u001B[39m)\n\u001B[1;32m    177\u001B[0m \u001B[38;5;28;01melse\u001B[39;00m:\n\u001B[1;32m    178\u001B[0m     \u001B[38;5;28;01mreturn\u001B[39;00m img\n",
      "\u001B[0;31mKeyboardInterrupt\u001B[0m: "
     ]
    }
   ],
   "execution_count": 68
  },
  {
   "metadata": {
    "ExecuteTime": {
     "end_time": "2024-07-31T19:11:48.807798Z",
     "start_time": "2024-07-31T19:11:47.637669Z"
    }
   },
   "cell_type": "code",
   "source": "trainer.test(test_loader)",
   "id": "ff58650fe3cf636",
   "outputs": [
    {
     "name": "stdout",
     "output_type": "stream",
     "text": [
      "Loss: 0.025253\n",
      "Accuracy: 87.500000%\n"
     ]
    }
   ],
   "execution_count": 52
  },
  {
   "metadata": {
    "ExecuteTime": {
     "end_time": "2024-07-31T21:09:00.975467Z",
     "start_time": "2024-07-31T21:09:00.795619Z"
    }
   },
   "cell_type": "code",
   "source": [
    "%matplotlib inline\n",
    "from matplotlib import pyplot as plt\n",
    "from visualize.samples import ClassificationSampler, SampleDrawer\n",
    "import cv2\n",
    "\n",
    "sampler = ClassificationSampler(model)\n",
    "drawer = SampleDrawer(resize=(240, 240), convert=cv2.COLOR_GRAY2RGB)\n",
    "for sample in sampler(test_data, 1):\n",
    "    drawer.take_sample(sample)\n",
    "    drawer.draw_labels(color=(255, 0, 0), pos=(25, 25))\n",
    "    drawer.draw_labels(gt=True, color=(0, 0, 255), pos=(25, 50))\n",
    "    im = drawer.get_drawing()\n",
    "    plt.imshow(im)\n",
    "    plt.show()\n"
   ],
   "id": "cb15ac224bb55964",
   "outputs": [
    {
     "name": "stderr",
     "output_type": "stream",
     "text": [
      "Clipping input data to the valid range for imshow with RGB data ([0..1] for floats or [0..255] for integers).\n"
     ]
    },
    {
     "data": {
      "text/plain": [
       "<Figure size 640x480 with 1 Axes>"
      ],
      "image/png": "[encoded data removed]"
     },
     "metadata": {},
     "output_type": "display_data"
    }
   ],
   "execution_count": 293
  }
 ],
 "metadata": {
  "kernelspec": {
   "display_name": "Python 3 (ipykernel)",
   "language": "python",
   "name": "python3"
  },
  "language_info": {
   "codemirror_mode": {
    "name": "ipython",
    "version": 3
   },
   "file_extension": ".py",
   "mimetype": "text/x-python",
   "name": "python",
   "nbconvert_exporter": "python",
   "pygments_lexer": "ipython3",
   "version": "3.11.9"
  }
 },
 "nbformat": 4,
 "nbformat_minor": 5
}
