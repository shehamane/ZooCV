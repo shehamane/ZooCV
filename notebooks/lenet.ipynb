{
 "cells": [
  {
   "metadata": {
    "ExecuteTime": {
     "end_time": "2024-08-21T11:54:27.579136Z",
     "start_time": "2024-08-21T11:54:27.566118Z"
    }
   },
   "cell_type": "code",
   "source": "%load_ext autoreload",
   "id": "ff9840ba88218221",
   "outputs": [],
   "execution_count": 1
  },
  {
   "metadata": {
    "ExecuteTime": {
     "end_time": "2024-08-21T11:54:27.584008Z",
     "start_time": "2024-08-21T11:54:27.580675Z"
    }
   },
   "cell_type": "code",
   "source": "%autoreload 2",
   "id": "b62cb91bd73f7d9c",
   "outputs": [],
   "execution_count": 2
  },
  {
   "metadata": {},
   "cell_type": "markdown",
   "source": "# Подготовка",
   "id": "2ae34e32e760cb40"
  },
  {
   "metadata": {},
   "cell_type": "markdown",
   "source": [
    "## Датасет\n",
    "Для тестирования LeNet-5 можно использовать датасет FashionMNIT, так как изображения в нем размера $28 \\times 28$, как раз подходит под вход без ресайза"
   ],
   "id": "5659fc629efcfe93"
  },
  {
   "metadata": {
    "ExecuteTime": {
     "end_time": "2024-08-21T11:54:43.774007Z",
     "start_time": "2024-08-21T11:54:29.287608Z"
    }
   },
   "cell_type": "code",
   "source": [
    "import torch\n",
    "from torch.utils.data import DataLoader\n",
    "from torchvision import datasets, transforms\n",
    "\n",
    "train_data = datasets.MNIST(\n",
    "    root='../data',\n",
    "    train=True,\n",
    "    download=True,\n",
    "    transform=transforms.ToTensor(),\n",
    ")\n",
    "\n",
    "test_data = datasets.MNIST(\n",
    "    root='../data',\n",
    "    train=False,\n",
    "    download=True,\n",
    "    transform=transforms.ToTensor(),\n",
    ")"
   ],
   "id": "b003c7fd-9407-4b39-a8ec-1c9c0e3dac0f",
   "outputs": [
    {
     "name": "stdout",
     "output_type": "stream",
     "text": [
      "Downloading http://yann.lecun.com/exdb/mnist/train-images-idx3-ubyte.gz\n",
      "Failed to download (trying next):\n",
      "HTTP Error 403: Forbidden\n",
      "\n",
      "Downloading https://ossci-datasets.s3.amazonaws.com/mnist/train-images-idx3-ubyte.gz\n",
      "Downloading https://ossci-datasets.s3.amazonaws.com/mnist/train-images-idx3-ubyte.gz to ../data/MNIST/raw/train-images-idx3-ubyte.gz\n"
     ]
    },
    {
     "name": "stderr",
     "output_type": "stream",
     "text": [
      "100.0%\n"
     ]
    },
    {
     "name": "stdout",
     "output_type": "stream",
     "text": [
      "Extracting ../data/MNIST/raw/train-images-idx3-ubyte.gz to ../data/MNIST/raw\n",
      "\n",
      "Downloading http://yann.lecun.com/exdb/mnist/train-labels-idx1-ubyte.gz\n",
      "Failed to download (trying next):\n",
      "HTTP Error 403: Forbidden\n",
      "\n",
      "Downloading https://ossci-datasets.s3.amazonaws.com/mnist/train-labels-idx1-ubyte.gz\n",
      "Downloading https://ossci-datasets.s3.amazonaws.com/mnist/train-labels-idx1-ubyte.gz to ../data/MNIST/raw/train-labels-idx1-ubyte.gz\n"
     ]
    },
    {
     "name": "stderr",
     "output_type": "stream",
     "text": [
      "100.0%\n"
     ]
    },
    {
     "name": "stdout",
     "output_type": "stream",
     "text": [
      "Extracting ../data/MNIST/raw/train-labels-idx1-ubyte.gz to ../data/MNIST/raw\n",
      "\n",
      "Downloading http://yann.lecun.com/exdb/mnist/t10k-images-idx3-ubyte.gz\n",
      "Failed to download (trying next):\n",
      "HTTP Error 403: Forbidden\n",
      "\n",
      "Downloading https://ossci-datasets.s3.amazonaws.com/mnist/t10k-images-idx3-ubyte.gz\n",
      "Downloading https://ossci-datasets.s3.amazonaws.com/mnist/t10k-images-idx3-ubyte.gz to ../data/MNIST/raw/t10k-images-idx3-ubyte.gz\n"
     ]
    },
    {
     "name": "stderr",
     "output_type": "stream",
     "text": [
      "100.0%\n"
     ]
    },
    {
     "name": "stdout",
     "output_type": "stream",
     "text": [
      "Extracting ../data/MNIST/raw/t10k-images-idx3-ubyte.gz to ../data/MNIST/raw\n",
      "\n",
      "Downloading http://yann.lecun.com/exdb/mnist/t10k-labels-idx1-ubyte.gz\n",
      "Failed to download (trying next):\n",
      "HTTP Error 403: Forbidden\n",
      "\n",
      "Downloading https://ossci-datasets.s3.amazonaws.com/mnist/t10k-labels-idx1-ubyte.gz\n",
      "Downloading https://ossci-datasets.s3.amazonaws.com/mnist/t10k-labels-idx1-ubyte.gz to ../data/MNIST/raw/t10k-labels-idx1-ubyte.gz\n"
     ]
    },
    {
     "name": "stderr",
     "output_type": "stream",
     "text": [
      "100.0%"
     ]
    },
    {
     "name": "stdout",
     "output_type": "stream",
     "text": [
      "Extracting ../data/MNIST/raw/t10k-labels-idx1-ubyte.gz to ../data/MNIST/raw\n",
      "\n"
     ]
    },
    {
     "name": "stderr",
     "output_type": "stream",
     "text": [
      "\n"
     ]
    }
   ],
   "execution_count": 3
  },
  {
   "metadata": {},
   "cell_type": "markdown",
   "source": "## Проверка использования GPU",
   "id": "e5bf716a49352d07"
  },
  {
   "metadata": {
    "ExecuteTime": {
     "end_time": "2024-08-21T11:55:01.667546Z",
     "start_time": "2024-08-21T11:55:01.590407Z"
    }
   },
   "cell_type": "code",
   "source": "torch.cuda.is_available()",
   "id": "fc03513a27c415e7",
   "outputs": [
    {
     "data": {
      "text/plain": [
       "True"
      ]
     },
     "execution_count": 4,
     "metadata": {},
     "output_type": "execute_result"
    }
   ],
   "execution_count": 4
  },
  {
   "metadata": {
    "ExecuteTime": {
     "end_time": "2024-08-21T11:55:02.165614Z",
     "start_time": "2024-08-21T11:55:02.138472Z"
    }
   },
   "cell_type": "code",
   "source": "torch.cuda.current_device()",
   "id": "5c0517ce9ca11a0f",
   "outputs": [
    {
     "data": {
      "text/plain": [
       "0"
      ]
     },
     "execution_count": 5,
     "metadata": {},
     "output_type": "execute_result"
    }
   ],
   "execution_count": 5
  },
  {
   "metadata": {
    "ExecuteTime": {
     "end_time": "2024-08-21T11:55:02.574143Z",
     "start_time": "2024-08-21T11:55:02.528034Z"
    }
   },
   "cell_type": "code",
   "source": "torch.cuda.get_device_name()",
   "id": "54394d3372ec86d",
   "outputs": [
    {
     "data": {
      "text/plain": [
       "'NVIDIA GeForce GTX 1070 Ti'"
      ]
     },
     "execution_count": 6,
     "metadata": {},
     "output_type": "execute_result"
    }
   ],
   "execution_count": 6
  },
  {
   "metadata": {},
   "cell_type": "markdown",
   "source": "## Подготовка модели и лоадеров",
   "id": "2ad38bcd21452d3a"
  },
  {
   "cell_type": "code",
   "id": "d794d1cf-53e2-444f-84a2-97778ef56009",
   "metadata": {
    "ExecuteTime": {
     "end_time": "2024-08-21T12:12:51.769811Z",
     "start_time": "2024-08-21T12:12:51.747413Z"
    }
   },
   "source": [
    "batch_size = 64\n",
    "train_loader = DataLoader(train_data, batch_size=batch_size)\n",
    "test_loader = DataLoader(test_data, batch_size=batch_size)"
   ],
   "outputs": [],
   "execution_count": 8
  },
  {
   "cell_type": "code",
   "id": "8bc55a57-ea68-40dc-bc8e-4f8d749027e5",
   "metadata": {
    "ExecuteTime": {
     "end_time": "2024-08-21T12:25:12.991547Z",
     "start_time": "2024-08-21T12:25:12.738100Z"
    }
   },
   "source": [
    "from model.lenet5 import LeNet5\n",
    "from torch.optim import SGD\n",
    "from torch.nn import CrossEntropyLoss\n",
    "from evaluation.eval import ClassificationEvaluator\n",
    "from evaluation.metrics import Metric\n",
    "\n",
    "model = LeNet5('../config/lenet-5.yaml', nc=10)\n",
    "optimizer = SGD(model.parameters(), lr=0.1, momentum=0.9)\n",
    "loss_fn = CrossEntropyLoss()\n",
    "evaluator = ClassificationEvaluator([Metric.Accuracy, Metric.Precision, Metric.Recall, Metric.F1])"
   ],
   "outputs": [],
   "execution_count": 29
  },
  {
   "cell_type": "code",
   "id": "9a01a604-6dda-4fa0-87b0-28a85e682f07",
   "metadata": {
    "ExecuteTime": {
     "end_time": "2024-08-21T12:25:13.734443Z",
     "start_time": "2024-08-21T12:25:13.703900Z"
    }
   },
   "source": [
    "from trainer.supervised import ClassificationTrainer\n",
    "\n",
    "trainer = ClassificationTrainer(model, train_loader, test_loader, loss_fn, optimizer, evaluator, eval_freq=10000)"
   ],
   "outputs": [],
   "execution_count": 30
  },
  {
   "metadata": {
    "ExecuteTime": {
     "end_time": "2024-08-21T12:25:14.205965Z",
     "start_time": "2024-08-21T12:25:14.158856Z"
    }
   },
   "cell_type": "code",
   "source": "model.nn",
   "id": "b9c750231a202cb7",
   "outputs": [
    {
     "data": {
      "text/plain": [
       "Sequential(\n",
       "  (0): Conv(\n",
       "    (conv): Conv2d(1, 6, kernel_size=(5, 5), stride=(1, 1), padding=(2, 2), bias=False)\n",
       "    (act): ReLU()\n",
       "  )\n",
       "  (1): AvgPool(\n",
       "    (avg): AvgPool2d(kernel_size=2, stride=2, padding=0)\n",
       "  )\n",
       "  (2): Conv(\n",
       "    (conv): Conv2d(6, 16, kernel_size=(5, 5), stride=(1, 1), bias=False)\n",
       "    (act): ReLU()\n",
       "  )\n",
       "  (3): AvgPool(\n",
       "    (avg): AvgPool2d(kernel_size=2, stride=2, padding=0)\n",
       "  )\n",
       "  (4): Flatten(start_dim=1, end_dim=-1)\n",
       "  (5): FC(\n",
       "    (fc): Linear(in_features=400, out_features=120, bias=True)\n",
       "    (act): ReLU()\n",
       "  )\n",
       "  (6): FC(\n",
       "    (fc): Linear(in_features=120, out_features=84, bias=True)\n",
       "    (act): ReLU()\n",
       "  )\n",
       "  (7): FC(\n",
       "    (fc): Linear(in_features=84, out_features=10, bias=True)\n",
       "    (act): ReLU()\n",
       "  )\n",
       "  (8): Softmax(\n",
       "    (sm): Softmax(dim=1)\n",
       "  )\n",
       ")"
      ]
     },
     "execution_count": 31,
     "metadata": {},
     "output_type": "execute_result"
    }
   ],
   "execution_count": 31
  },
  {
   "metadata": {},
   "cell_type": "markdown",
   "source": "# Тестирование",
   "id": "804ed474f234296f"
  },
  {
   "metadata": {
    "jupyter": {
     "is_executing": true
    },
    "ExecuteTime": {
     "start_time": "2024-08-21T12:25:28.337859Z"
    }
   },
   "cell_type": "code",
   "source": [
    "epochs = 100\n",
    "\n",
    "for epoch in range(epochs):\n",
    "    trainer.train()"
   ],
   "id": "c7a8e84e2ee7f075",
   "outputs": [
    {
     "name": "stdout",
     "output_type": "stream",
     "text": [
      "=================\n",
      "Metrics for id 0:\n",
      "Accuracy | Precision | Recall | F1\n",
      "0.1028   | 0.1028    | 0.1028 | 0.1028\n",
      "=================\n",
      "Loss for id 0: 0.030923862087726593\n",
      "=================\n",
      "Metrics for id 0:\n",
      "Accuracy | Precision | Recall | F1\n",
      "0.8055   | 0.8055    | 0.8055 | 0.8054999999999999\n",
      "=================\n"
     ]
    }
   ],
   "execution_count": null
  }
 ],
 "metadata": {
  "kernelspec": {
   "display_name": "Python 3 (ipykernel)",
   "language": "python",
   "name": "python3"
  },
  "language_info": {
   "codemirror_mode": {
    "name": "ipython",
    "version": 3
   },
   "file_extension": ".py",
   "mimetype": "text/x-python",
   "name": "python",
   "nbconvert_exporter": "python",
   "pygments_lexer": "ipython3",
   "version": "3.11.9"
  }
 },
 "nbformat": 4,
 "nbformat_minor": 5
}
