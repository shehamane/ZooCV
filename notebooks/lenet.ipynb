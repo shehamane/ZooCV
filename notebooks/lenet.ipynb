{
 "cells": [
  {
   "metadata": {
    "ExecuteTime": {
     "end_time": "2024-08-16T12:44:30.386017Z",
     "start_time": "2024-08-16T12:44:30.356406Z"
    }
   },
   "cell_type": "code",
   "source": "%load_ext autoreload",
   "id": "ff9840ba88218221",
   "outputs": [],
   "execution_count": 1
  },
  {
   "metadata": {
    "ExecuteTime": {
     "end_time": "2024-08-16T12:44:30.391712Z",
     "start_time": "2024-08-16T12:44:30.387900Z"
    }
   },
   "cell_type": "code",
   "source": "%autoreload 2",
   "id": "b62cb91bd73f7d9c",
   "outputs": [],
   "execution_count": 2
  },
  {
   "metadata": {},
   "cell_type": "markdown",
   "source": "# Подготовка",
   "id": "2ae34e32e760cb40"
  },
  {
   "metadata": {},
   "cell_type": "markdown",
   "source": [
    "## Датасет\n",
    "Для тестирования LeNet-5 можно использовать датасет FashionMNIT, так как изображения в нем размера $28 \\times 28$, как раз подходит под вход без ресайза"
   ],
   "id": "5659fc629efcfe93"
  },
  {
   "metadata": {
    "ExecuteTime": {
     "end_time": "2024-08-16T12:44:33.767259Z",
     "start_time": "2024-08-16T12:44:31.200950Z"
    }
   },
   "cell_type": "code",
   "source": [
    "import torch\n",
    "from torch.utils.data import DataLoader\n",
    "from torchvision import datasets, transforms\n",
    "\n",
    "train_data = datasets.MNIST(\n",
    "    root='data',\n",
    "    train=True,\n",
    "    download=True,\n",
    "    transform=transforms.ToTensor(),\n",
    ")\n",
    "\n",
    "test_data = datasets.MNIST(\n",
    "    root='data',\n",
    "    train=False,\n",
    "    download=True,\n",
    "    transform=transforms.ToTensor(),\n",
    ")"
   ],
   "id": "b003c7fd-9407-4b39-a8ec-1c9c0e3dac0f",
   "outputs": [],
   "execution_count": 3
  },
  {
   "metadata": {},
   "cell_type": "markdown",
   "source": "## Проверка использования GPU",
   "id": "e5bf716a49352d07"
  },
  {
   "metadata": {
    "ExecuteTime": {
     "end_time": "2024-08-16T12:44:34.819400Z",
     "start_time": "2024-08-16T12:44:34.700358Z"
    }
   },
   "cell_type": "code",
   "source": "torch.cuda.is_available()",
   "id": "fc03513a27c415e7",
   "outputs": [
    {
     "data": {
      "text/plain": [
       "True"
      ]
     },
     "execution_count": 4,
     "metadata": {},
     "output_type": "execute_result"
    }
   ],
   "execution_count": 4
  },
  {
   "metadata": {
    "ExecuteTime": {
     "end_time": "2024-08-16T12:44:35.113151Z",
     "start_time": "2024-08-16T12:44:35.066093Z"
    }
   },
   "cell_type": "code",
   "source": "torch.cuda.current_device()",
   "id": "5c0517ce9ca11a0f",
   "outputs": [
    {
     "data": {
      "text/plain": [
       "0"
      ]
     },
     "execution_count": 5,
     "metadata": {},
     "output_type": "execute_result"
    }
   ],
   "execution_count": 5
  },
  {
   "metadata": {
    "ExecuteTime": {
     "end_time": "2024-08-16T12:44:35.481380Z",
     "start_time": "2024-08-16T12:44:35.427847Z"
    }
   },
   "cell_type": "code",
   "source": "torch.cuda.get_device_name()",
   "id": "54394d3372ec86d",
   "outputs": [
    {
     "data": {
      "text/plain": [
       "'NVIDIA GeForce GTX 1070 Ti'"
      ]
     },
     "execution_count": 6,
     "metadata": {},
     "output_type": "execute_result"
    }
   ],
   "execution_count": 6
  },
  {
   "metadata": {},
   "cell_type": "markdown",
   "source": "## Подготовка модели и лоадеров",
   "id": "2ad38bcd21452d3a"
  },
  {
   "cell_type": "code",
   "id": "d794d1cf-53e2-444f-84a2-97778ef56009",
   "metadata": {
    "ExecuteTime": {
     "end_time": "2024-08-16T12:44:36.224903Z",
     "start_time": "2024-08-16T12:44:36.203301Z"
    }
   },
   "source": [
    "batch_size = 64\n",
    "train_loader = DataLoader(train_data, batch_size=batch_size)\n",
    "test_loader = DataLoader(test_data, batch_size=batch_size)"
   ],
   "outputs": [],
   "execution_count": 7
  },
  {
   "cell_type": "code",
   "id": "8bc55a57-ea68-40dc-bc8e-4f8d749027e5",
   "metadata": {
    "ExecuteTime": {
     "end_time": "2024-08-16T13:30:21.231138Z",
     "start_time": "2024-08-16T13:30:20.183065Z"
    }
   },
   "source": [
    "from model.lenet5 import LeNet5\n",
    "from torch.optim import SGD\n",
    "from torch.nn import CrossEntropyLoss\n",
    "from evaluation.eval import ClassificationEvaluator\n",
    "from evaluation.metrics import Metric\n",
    "\n",
    "model = LeNet5()\n",
    "optimizer = SGD(model.parameters(), lr=0.1, momentum=0.9)\n",
    "loss_fn = CrossEntropyLoss()\n",
    "evaluator = ClassificationEvaluator([Metric.Accuracy, Metric.Precision, Metric.Recall, Metric.F1])"
   ],
   "outputs": [],
   "execution_count": 63
  },
  {
   "cell_type": "code",
   "id": "9a01a604-6dda-4fa0-87b0-28a85e682f07",
   "metadata": {
    "ExecuteTime": {
     "end_time": "2024-08-16T13:30:21.262958Z",
     "start_time": "2024-08-16T13:30:21.232371Z"
    }
   },
   "source": [
    "from trainer.supervised import ClassificationTrainer\n",
    "\n",
    "trainer = ClassificationTrainer(model, train_loader, test_loader, loss_fn, optimizer, evaluator, 10, eval_freq=10000)"
   ],
   "outputs": [],
   "execution_count": 64
  },
  {
   "metadata": {},
   "cell_type": "markdown",
   "source": "# Тестирование",
   "id": "804ed474f234296f"
  },
  {
   "metadata": {
    "ExecuteTime": {
     "end_time": "2024-08-16T13:37:26.328424Z",
     "start_time": "2024-08-16T13:30:22.915628Z"
    }
   },
   "cell_type": "code",
   "source": [
    "epochs = 100\n",
    "\n",
    "for epoch in range(epochs):\n",
    "    trainer.train()"
   ],
   "id": "c7a8e84e2ee7f075",
   "outputs": [
    {
     "name": "stdout",
     "output_type": "stream",
     "text": [
      "=================\n",
      "Metrics for id 0:\n",
      "Accuracy | Precision | Recall | F1\n",
      "0.1135   | 0.1135    | 0.1135 | 0.1135\n",
      "=================\n",
      "Loss for id 937: 0.03598321100473404\n",
      "Loss for id 1874: 0.03598151049613953\n",
      "Loss for id 2811: 0.03598041319449743\n",
      "Loss for id 3748: 0.035979478243986764\n",
      "Loss for id 4685: 0.03597864460150401\n",
      "Loss for id 5622: 0.035977840391794844\n",
      "Loss for id 6559: 0.03597691931724548\n",
      "Loss for id 7496: 0.03597541066010793\n",
      "Loss for id 8433: 0.03596943786541621\n",
      "Loss for id 9370: 0.034763895400365195\n",
      "=================\n",
      "Metrics for id 10000:\n",
      "Accuracy | Precision | Recall | F1\n",
      "0.5652   | 0.5652    | 0.5652 | 0.5652\n",
      "=================\n",
      "Loss for id 10307: 0.031002779046694438\n",
      "Loss for id 11244: 0.026541196584701537\n",
      "Loss for id 12181: 0.02559928729136785\n",
      "Loss for id 13118: 0.025315652100245157\n",
      "Loss for id 14055: 0.025149501556158065\n",
      "Loss for id 14992: 0.025021425165732702\n",
      "Loss for id 15929: 0.024917795926332472\n",
      "Loss for id 16866: 0.024839406474431357\n",
      "Loss for id 17803: 0.024778309428691865\n",
      "Loss for id 18740: 0.02472192404270172\n",
      "Loss for id 19677: 0.02467766033411026\n",
      "=================\n",
      "Metrics for id 20000:\n",
      "Accuracy | Precision | Recall | F1\n",
      "0.886    | 0.886     | 0.886  | 0.886\n",
      "=================\n",
      "Loss for id 20614: 0.024639517505963642\n",
      "Loss for id 21551: 0.024611270769437154\n",
      "Loss for id 22488: 0.024583410344521203\n",
      "Loss for id 23425: 0.024560735297203064\n",
      "Loss for id 24362: 0.024541964385906855\n",
      "Loss for id 25299: 0.024524661389986675\n",
      "Loss for id 26236: 0.024508128372828165\n",
      "Loss for id 27173: 0.024493041521310807\n",
      "Loss for id 28110: 0.024477632347742716\n",
      "Loss for id 29047: 0.024465005697806675\n",
      "Loss for id 29984: 0.02445151429573695\n",
      "=================\n",
      "Metrics for id 30000:\n",
      "Accuracy | Precision | Recall | F1\n",
      "0.8958   | 0.8958    | 0.8958 | 0.8958\n",
      "=================\n",
      "Loss for id 30921: 0.02444035499294599\n",
      "Loss for id 31858: 0.024431154402097068\n",
      "Loss for id 32795: 0.024421017064650854\n",
      "Loss for id 33732: 0.024411059707403183\n",
      "Loss for id 34669: 0.024405967704455057\n",
      "Loss for id 35606: 0.02439562306404114\n",
      "Loss for id 36543: 0.02438702513774236\n",
      "Loss for id 37480: 0.024382486406962077\n",
      "Loss for id 38417: 0.024375400640567143\n",
      "Loss for id 39354: 0.024369128819306692\n",
      "=================\n",
      "Metrics for id 40000:\n",
      "Accuracy | Precision | Recall | F1\n",
      "0.8981   | 0.8981    | 0.8981 | 0.8981\n",
      "=================\n",
      "Loss for id 40291: 0.024363755627473196\n",
      "Loss for id 41228: 0.02435966627796491\n",
      "Loss for id 42165: 0.024356396863857904\n",
      "Loss for id 43102: 0.024350485334793726\n",
      "Loss for id 44039: 0.02434598662654559\n",
      "Loss for id 44976: 0.02433996679385503\n",
      "Loss for id 45913: 0.024337595226367314\n",
      "Loss for id 46850: 0.024332195031642915\n",
      "Loss for id 47787: 0.02432912818193436\n",
      "Loss for id 48724: 0.024326902641852697\n"
     ]
    },
    {
     "ename": "KeyboardInterrupt",
     "evalue": "",
     "output_type": "error",
     "traceback": [
      "\u001B[0;31m---------------------------------------------------------------------------\u001B[0m",
      "\u001B[0;31mKeyboardInterrupt\u001B[0m                         Traceback (most recent call last)",
      "Cell \u001B[0;32mIn[65], line 4\u001B[0m\n\u001B[1;32m      1\u001B[0m epochs \u001B[38;5;241m=\u001B[39m \u001B[38;5;241m100\u001B[39m\n\u001B[1;32m      3\u001B[0m \u001B[38;5;28;01mfor\u001B[39;00m epoch \u001B[38;5;129;01min\u001B[39;00m \u001B[38;5;28mrange\u001B[39m(epochs):\n\u001B[0;32m----> 4\u001B[0m     trainer\u001B[38;5;241m.\u001B[39mtrain()\n",
      "File \u001B[0;32m~/Projects/ZooCV/trainer/supervised.py:36\u001B[0m, in \u001B[0;36mClassificationTrainer.train\u001B[0;34m(self)\u001B[0m\n\u001B[1;32m     32\u001B[0m it \u001B[38;5;241m=\u001B[39m \u001B[38;5;28mself\u001B[39m\u001B[38;5;241m.\u001B[39mlast_iter \u001B[38;5;241m+\u001B[39m batch_it\n\u001B[1;32m     34\u001B[0m images, labels \u001B[38;5;241m=\u001B[39m images\u001B[38;5;241m.\u001B[39mto(\u001B[38;5;28mself\u001B[39m\u001B[38;5;241m.\u001B[39mdevice), labels\u001B[38;5;241m.\u001B[39mto(\u001B[38;5;28mself\u001B[39m\u001B[38;5;241m.\u001B[39mdevice)\n\u001B[0;32m---> 36\u001B[0m logits_pred \u001B[38;5;241m=\u001B[39m \u001B[38;5;28mself\u001B[39m\u001B[38;5;241m.\u001B[39mmodel(images)\n\u001B[1;32m     37\u001B[0m loss \u001B[38;5;241m=\u001B[39m \u001B[38;5;28mself\u001B[39m\u001B[38;5;241m.\u001B[39mloss_fn(logits_pred, labels)\n\u001B[1;32m     38\u001B[0m total_loss \u001B[38;5;241m+\u001B[39m\u001B[38;5;241m=\u001B[39m loss\u001B[38;5;241m.\u001B[39mitem()\n",
      "File \u001B[0;32m~/miniconda3/envs/zoocv/lib/python3.11/site-packages/torch/nn/modules/module.py:1532\u001B[0m, in \u001B[0;36mModule._wrapped_call_impl\u001B[0;34m(self, *args, **kwargs)\u001B[0m\n\u001B[1;32m   1530\u001B[0m     \u001B[38;5;28;01mreturn\u001B[39;00m \u001B[38;5;28mself\u001B[39m\u001B[38;5;241m.\u001B[39m_compiled_call_impl(\u001B[38;5;241m*\u001B[39margs, \u001B[38;5;241m*\u001B[39m\u001B[38;5;241m*\u001B[39mkwargs)  \u001B[38;5;66;03m# type: ignore[misc]\u001B[39;00m\n\u001B[1;32m   1531\u001B[0m \u001B[38;5;28;01melse\u001B[39;00m:\n\u001B[0;32m-> 1532\u001B[0m     \u001B[38;5;28;01mreturn\u001B[39;00m \u001B[38;5;28mself\u001B[39m\u001B[38;5;241m.\u001B[39m_call_impl(\u001B[38;5;241m*\u001B[39margs, \u001B[38;5;241m*\u001B[39m\u001B[38;5;241m*\u001B[39mkwargs)\n",
      "File \u001B[0;32m~/miniconda3/envs/zoocv/lib/python3.11/site-packages/torch/nn/modules/module.py:1541\u001B[0m, in \u001B[0;36mModule._call_impl\u001B[0;34m(self, *args, **kwargs)\u001B[0m\n\u001B[1;32m   1536\u001B[0m \u001B[38;5;66;03m# If we don't have any hooks, we want to skip the rest of the logic in\u001B[39;00m\n\u001B[1;32m   1537\u001B[0m \u001B[38;5;66;03m# this function, and just call forward.\u001B[39;00m\n\u001B[1;32m   1538\u001B[0m \u001B[38;5;28;01mif\u001B[39;00m \u001B[38;5;129;01mnot\u001B[39;00m (\u001B[38;5;28mself\u001B[39m\u001B[38;5;241m.\u001B[39m_backward_hooks \u001B[38;5;129;01mor\u001B[39;00m \u001B[38;5;28mself\u001B[39m\u001B[38;5;241m.\u001B[39m_backward_pre_hooks \u001B[38;5;129;01mor\u001B[39;00m \u001B[38;5;28mself\u001B[39m\u001B[38;5;241m.\u001B[39m_forward_hooks \u001B[38;5;129;01mor\u001B[39;00m \u001B[38;5;28mself\u001B[39m\u001B[38;5;241m.\u001B[39m_forward_pre_hooks\n\u001B[1;32m   1539\u001B[0m         \u001B[38;5;129;01mor\u001B[39;00m _global_backward_pre_hooks \u001B[38;5;129;01mor\u001B[39;00m _global_backward_hooks\n\u001B[1;32m   1540\u001B[0m         \u001B[38;5;129;01mor\u001B[39;00m _global_forward_hooks \u001B[38;5;129;01mor\u001B[39;00m _global_forward_pre_hooks):\n\u001B[0;32m-> 1541\u001B[0m     \u001B[38;5;28;01mreturn\u001B[39;00m forward_call(\u001B[38;5;241m*\u001B[39margs, \u001B[38;5;241m*\u001B[39m\u001B[38;5;241m*\u001B[39mkwargs)\n\u001B[1;32m   1543\u001B[0m \u001B[38;5;28;01mtry\u001B[39;00m:\n\u001B[1;32m   1544\u001B[0m     result \u001B[38;5;241m=\u001B[39m \u001B[38;5;28;01mNone\u001B[39;00m\n",
      "File \u001B[0;32m~/Projects/ZooCV/model/lenet5.py:26\u001B[0m, in \u001B[0;36mLeNet5.forward\u001B[0;34m(self, x)\u001B[0m\n\u001B[1;32m     25\u001B[0m \u001B[38;5;28;01mdef\u001B[39;00m \u001B[38;5;21mforward\u001B[39m(\u001B[38;5;28mself\u001B[39m, x):\n\u001B[0;32m---> 26\u001B[0m     x \u001B[38;5;241m=\u001B[39m \u001B[38;5;28mself\u001B[39m\u001B[38;5;241m.\u001B[39mfeature_extractor(x)\n\u001B[1;32m     27\u001B[0m     probs_dist \u001B[38;5;241m=\u001B[39m \u001B[38;5;28mself\u001B[39m\u001B[38;5;241m.\u001B[39mclassifier(x)\n\u001B[1;32m     28\u001B[0m     \u001B[38;5;28;01mreturn\u001B[39;00m probs_dist\n",
      "File \u001B[0;32m~/miniconda3/envs/zoocv/lib/python3.11/site-packages/torch/nn/modules/module.py:1532\u001B[0m, in \u001B[0;36mModule._wrapped_call_impl\u001B[0;34m(self, *args, **kwargs)\u001B[0m\n\u001B[1;32m   1530\u001B[0m     \u001B[38;5;28;01mreturn\u001B[39;00m \u001B[38;5;28mself\u001B[39m\u001B[38;5;241m.\u001B[39m_compiled_call_impl(\u001B[38;5;241m*\u001B[39margs, \u001B[38;5;241m*\u001B[39m\u001B[38;5;241m*\u001B[39mkwargs)  \u001B[38;5;66;03m# type: ignore[misc]\u001B[39;00m\n\u001B[1;32m   1531\u001B[0m \u001B[38;5;28;01melse\u001B[39;00m:\n\u001B[0;32m-> 1532\u001B[0m     \u001B[38;5;28;01mreturn\u001B[39;00m \u001B[38;5;28mself\u001B[39m\u001B[38;5;241m.\u001B[39m_call_impl(\u001B[38;5;241m*\u001B[39margs, \u001B[38;5;241m*\u001B[39m\u001B[38;5;241m*\u001B[39mkwargs)\n",
      "File \u001B[0;32m~/miniconda3/envs/zoocv/lib/python3.11/site-packages/torch/nn/modules/module.py:1541\u001B[0m, in \u001B[0;36mModule._call_impl\u001B[0;34m(self, *args, **kwargs)\u001B[0m\n\u001B[1;32m   1536\u001B[0m \u001B[38;5;66;03m# If we don't have any hooks, we want to skip the rest of the logic in\u001B[39;00m\n\u001B[1;32m   1537\u001B[0m \u001B[38;5;66;03m# this function, and just call forward.\u001B[39;00m\n\u001B[1;32m   1538\u001B[0m \u001B[38;5;28;01mif\u001B[39;00m \u001B[38;5;129;01mnot\u001B[39;00m (\u001B[38;5;28mself\u001B[39m\u001B[38;5;241m.\u001B[39m_backward_hooks \u001B[38;5;129;01mor\u001B[39;00m \u001B[38;5;28mself\u001B[39m\u001B[38;5;241m.\u001B[39m_backward_pre_hooks \u001B[38;5;129;01mor\u001B[39;00m \u001B[38;5;28mself\u001B[39m\u001B[38;5;241m.\u001B[39m_forward_hooks \u001B[38;5;129;01mor\u001B[39;00m \u001B[38;5;28mself\u001B[39m\u001B[38;5;241m.\u001B[39m_forward_pre_hooks\n\u001B[1;32m   1539\u001B[0m         \u001B[38;5;129;01mor\u001B[39;00m _global_backward_pre_hooks \u001B[38;5;129;01mor\u001B[39;00m _global_backward_hooks\n\u001B[1;32m   1540\u001B[0m         \u001B[38;5;129;01mor\u001B[39;00m _global_forward_hooks \u001B[38;5;129;01mor\u001B[39;00m _global_forward_pre_hooks):\n\u001B[0;32m-> 1541\u001B[0m     \u001B[38;5;28;01mreturn\u001B[39;00m forward_call(\u001B[38;5;241m*\u001B[39margs, \u001B[38;5;241m*\u001B[39m\u001B[38;5;241m*\u001B[39mkwargs)\n\u001B[1;32m   1543\u001B[0m \u001B[38;5;28;01mtry\u001B[39;00m:\n\u001B[1;32m   1544\u001B[0m     result \u001B[38;5;241m=\u001B[39m \u001B[38;5;28;01mNone\u001B[39;00m\n",
      "File \u001B[0;32m~/miniconda3/envs/zoocv/lib/python3.11/site-packages/torch/nn/modules/container.py:217\u001B[0m, in \u001B[0;36mSequential.forward\u001B[0;34m(self, input)\u001B[0m\n\u001B[1;32m    215\u001B[0m \u001B[38;5;28;01mdef\u001B[39;00m \u001B[38;5;21mforward\u001B[39m(\u001B[38;5;28mself\u001B[39m, \u001B[38;5;28minput\u001B[39m):\n\u001B[1;32m    216\u001B[0m     \u001B[38;5;28;01mfor\u001B[39;00m module \u001B[38;5;129;01min\u001B[39;00m \u001B[38;5;28mself\u001B[39m:\n\u001B[0;32m--> 217\u001B[0m         \u001B[38;5;28minput\u001B[39m \u001B[38;5;241m=\u001B[39m module(\u001B[38;5;28minput\u001B[39m)\n\u001B[1;32m    218\u001B[0m     \u001B[38;5;28;01mreturn\u001B[39;00m \u001B[38;5;28minput\u001B[39m\n",
      "File \u001B[0;32m~/miniconda3/envs/zoocv/lib/python3.11/site-packages/torch/nn/modules/module.py:1532\u001B[0m, in \u001B[0;36mModule._wrapped_call_impl\u001B[0;34m(self, *args, **kwargs)\u001B[0m\n\u001B[1;32m   1530\u001B[0m     \u001B[38;5;28;01mreturn\u001B[39;00m \u001B[38;5;28mself\u001B[39m\u001B[38;5;241m.\u001B[39m_compiled_call_impl(\u001B[38;5;241m*\u001B[39margs, \u001B[38;5;241m*\u001B[39m\u001B[38;5;241m*\u001B[39mkwargs)  \u001B[38;5;66;03m# type: ignore[misc]\u001B[39;00m\n\u001B[1;32m   1531\u001B[0m \u001B[38;5;28;01melse\u001B[39;00m:\n\u001B[0;32m-> 1532\u001B[0m     \u001B[38;5;28;01mreturn\u001B[39;00m \u001B[38;5;28mself\u001B[39m\u001B[38;5;241m.\u001B[39m_call_impl(\u001B[38;5;241m*\u001B[39margs, \u001B[38;5;241m*\u001B[39m\u001B[38;5;241m*\u001B[39mkwargs)\n",
      "File \u001B[0;32m~/miniconda3/envs/zoocv/lib/python3.11/site-packages/torch/nn/modules/module.py:1541\u001B[0m, in \u001B[0;36mModule._call_impl\u001B[0;34m(self, *args, **kwargs)\u001B[0m\n\u001B[1;32m   1536\u001B[0m \u001B[38;5;66;03m# If we don't have any hooks, we want to skip the rest of the logic in\u001B[39;00m\n\u001B[1;32m   1537\u001B[0m \u001B[38;5;66;03m# this function, and just call forward.\u001B[39;00m\n\u001B[1;32m   1538\u001B[0m \u001B[38;5;28;01mif\u001B[39;00m \u001B[38;5;129;01mnot\u001B[39;00m (\u001B[38;5;28mself\u001B[39m\u001B[38;5;241m.\u001B[39m_backward_hooks \u001B[38;5;129;01mor\u001B[39;00m \u001B[38;5;28mself\u001B[39m\u001B[38;5;241m.\u001B[39m_backward_pre_hooks \u001B[38;5;129;01mor\u001B[39;00m \u001B[38;5;28mself\u001B[39m\u001B[38;5;241m.\u001B[39m_forward_hooks \u001B[38;5;129;01mor\u001B[39;00m \u001B[38;5;28mself\u001B[39m\u001B[38;5;241m.\u001B[39m_forward_pre_hooks\n\u001B[1;32m   1539\u001B[0m         \u001B[38;5;129;01mor\u001B[39;00m _global_backward_pre_hooks \u001B[38;5;129;01mor\u001B[39;00m _global_backward_hooks\n\u001B[1;32m   1540\u001B[0m         \u001B[38;5;129;01mor\u001B[39;00m _global_forward_hooks \u001B[38;5;129;01mor\u001B[39;00m _global_forward_pre_hooks):\n\u001B[0;32m-> 1541\u001B[0m     \u001B[38;5;28;01mreturn\u001B[39;00m forward_call(\u001B[38;5;241m*\u001B[39margs, \u001B[38;5;241m*\u001B[39m\u001B[38;5;241m*\u001B[39mkwargs)\n\u001B[1;32m   1543\u001B[0m \u001B[38;5;28;01mtry\u001B[39;00m:\n\u001B[1;32m   1544\u001B[0m     result \u001B[38;5;241m=\u001B[39m \u001B[38;5;28;01mNone\u001B[39;00m\n",
      "File \u001B[0;32m~/miniconda3/envs/zoocv/lib/python3.11/site-packages/torch/nn/modules/pooling.py:640\u001B[0m, in \u001B[0;36mAvgPool2d.forward\u001B[0;34m(self, input)\u001B[0m\n\u001B[1;32m    637\u001B[0m     \u001B[38;5;28mself\u001B[39m\u001B[38;5;241m.\u001B[39mcount_include_pad \u001B[38;5;241m=\u001B[39m count_include_pad\n\u001B[1;32m    638\u001B[0m     \u001B[38;5;28mself\u001B[39m\u001B[38;5;241m.\u001B[39mdivisor_override \u001B[38;5;241m=\u001B[39m divisor_override\n\u001B[0;32m--> 640\u001B[0m \u001B[38;5;28;01mdef\u001B[39;00m \u001B[38;5;21mforward\u001B[39m(\u001B[38;5;28mself\u001B[39m, \u001B[38;5;28minput\u001B[39m: Tensor) \u001B[38;5;241m-\u001B[39m\u001B[38;5;241m>\u001B[39m Tensor:\n\u001B[1;32m    641\u001B[0m     \u001B[38;5;28;01mreturn\u001B[39;00m F\u001B[38;5;241m.\u001B[39mavg_pool2d(\u001B[38;5;28minput\u001B[39m, \u001B[38;5;28mself\u001B[39m\u001B[38;5;241m.\u001B[39mkernel_size, \u001B[38;5;28mself\u001B[39m\u001B[38;5;241m.\u001B[39mstride,\n\u001B[1;32m    642\u001B[0m                         \u001B[38;5;28mself\u001B[39m\u001B[38;5;241m.\u001B[39mpadding, \u001B[38;5;28mself\u001B[39m\u001B[38;5;241m.\u001B[39mceil_mode, \u001B[38;5;28mself\u001B[39m\u001B[38;5;241m.\u001B[39mcount_include_pad, \u001B[38;5;28mself\u001B[39m\u001B[38;5;241m.\u001B[39mdivisor_override)\n",
      "\u001B[0;31mKeyboardInterrupt\u001B[0m: "
     ]
    }
   ],
   "execution_count": 65
  }
 ],
 "metadata": {
  "kernelspec": {
   "display_name": "Python 3 (ipykernel)",
   "language": "python",
   "name": "python3"
  },
  "language_info": {
   "codemirror_mode": {
    "name": "ipython",
    "version": 3
   },
   "file_extension": ".py",
   "mimetype": "text/x-python",
   "name": "python",
   "nbconvert_exporter": "python",
   "pygments_lexer": "ipython3",
   "version": "3.11.9"
  }
 },
 "nbformat": 4,
 "nbformat_minor": 5
}
