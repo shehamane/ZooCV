{
 "cells": [
  {
   "metadata": {
    "ExecuteTime": {
     "end_time": "2024-08-09T01:45:33.028795Z",
     "start_time": "2024-08-09T01:45:33.011194Z"
    }
   },
   "cell_type": "code",
   "source": "%load_ext autoreload",
   "id": "ff9840ba88218221",
   "outputs": [],
   "execution_count": 1
  },
  {
   "metadata": {
    "ExecuteTime": {
     "end_time": "2024-08-09T01:45:33.062954Z",
     "start_time": "2024-08-09T01:45:33.056178Z"
    }
   },
   "cell_type": "code",
   "source": "%autoreload 2",
   "id": "b62cb91bd73f7d9c",
   "outputs": [],
   "execution_count": 2
  },
  {
   "metadata": {},
   "cell_type": "markdown",
   "source": "# Подготовка",
   "id": "2ae34e32e760cb40"
  },
  {
   "metadata": {},
   "cell_type": "markdown",
   "source": [
    "## Датасет\n",
    "Для тестирования LeNet-5 можно использовать датасет FashionMNIT, так как изображения в нем размера $28 \\times 28$, как раз подходит под вход без ресайза"
   ],
   "id": "5659fc629efcfe93"
  },
  {
   "metadata": {
    "ExecuteTime": {
     "end_time": "2024-08-09T02:01:46.038090Z",
     "start_time": "2024-08-09T02:01:28.256027Z"
    }
   },
   "cell_type": "code",
   "source": [
    "import torch\n",
    "from torch.utils.data import DataLoader\n",
    "from torchvision import datasets, transforms\n",
    "\n",
    "train_data = datasets.MNIST(\n",
    "    root='data',\n",
    "    train=True,\n",
    "    download=True,\n",
    "    transform=transforms.ToTensor(),\n",
    ")\n",
    "\n",
    "test_data = datasets.MNIST(\n",
    "    root='data',\n",
    "    train=False,\n",
    "    download=True,\n",
    "    transform=transforms.ToTensor(),\n",
    ")"
   ],
   "id": "b003c7fd-9407-4b39-a8ec-1c9c0e3dac0f",
   "outputs": [
    {
     "name": "stdout",
     "output_type": "stream",
     "text": [
      "Downloading http://yann.lecun.com/exdb/mnist/train-images-idx3-ubyte.gz\n",
      "Failed to download (trying next):\n",
      "HTTP Error 403: Forbidden\n",
      "\n",
      "Downloading https://ossci-datasets.s3.amazonaws.com/mnist/train-images-idx3-ubyte.gz\n",
      "Downloading https://ossci-datasets.s3.amazonaws.com/mnist/train-images-idx3-ubyte.gz to data/MNIST/raw/train-images-idx3-ubyte.gz\n"
     ]
    },
    {
     "name": "stderr",
     "output_type": "stream",
     "text": [
      "100.0%\n"
     ]
    },
    {
     "name": "stdout",
     "output_type": "stream",
     "text": [
      "Extracting data/MNIST/raw/train-images-idx3-ubyte.gz to data/MNIST/raw\n",
      "\n",
      "Downloading http://yann.lecun.com/exdb/mnist/train-labels-idx1-ubyte.gz\n",
      "Failed to download (trying next):\n",
      "HTTP Error 403: Forbidden\n",
      "\n",
      "Downloading https://ossci-datasets.s3.amazonaws.com/mnist/train-labels-idx1-ubyte.gz\n",
      "Downloading https://ossci-datasets.s3.amazonaws.com/mnist/train-labels-idx1-ubyte.gz to data/MNIST/raw/train-labels-idx1-ubyte.gz\n"
     ]
    },
    {
     "name": "stderr",
     "output_type": "stream",
     "text": [
      "100.0%\n"
     ]
    },
    {
     "name": "stdout",
     "output_type": "stream",
     "text": [
      "Extracting data/MNIST/raw/train-labels-idx1-ubyte.gz to data/MNIST/raw\n",
      "\n",
      "Downloading http://yann.lecun.com/exdb/mnist/t10k-images-idx3-ubyte.gz\n",
      "Failed to download (trying next):\n",
      "HTTP Error 403: Forbidden\n",
      "\n",
      "Downloading https://ossci-datasets.s3.amazonaws.com/mnist/t10k-images-idx3-ubyte.gz\n",
      "Downloading https://ossci-datasets.s3.amazonaws.com/mnist/t10k-images-idx3-ubyte.gz to data/MNIST/raw/t10k-images-idx3-ubyte.gz\n"
     ]
    },
    {
     "name": "stderr",
     "output_type": "stream",
     "text": [
      "100.0%\n"
     ]
    },
    {
     "name": "stdout",
     "output_type": "stream",
     "text": [
      "Extracting data/MNIST/raw/t10k-images-idx3-ubyte.gz to data/MNIST/raw\n",
      "\n",
      "Downloading http://yann.lecun.com/exdb/mnist/t10k-labels-idx1-ubyte.gz\n",
      "Failed to download (trying next):\n",
      "HTTP Error 403: Forbidden\n",
      "\n",
      "Downloading https://ossci-datasets.s3.amazonaws.com/mnist/t10k-labels-idx1-ubyte.gz\n",
      "Downloading https://ossci-datasets.s3.amazonaws.com/mnist/t10k-labels-idx1-ubyte.gz to data/MNIST/raw/t10k-labels-idx1-ubyte.gz\n"
     ]
    },
    {
     "name": "stderr",
     "output_type": "stream",
     "text": [
      "100.0%"
     ]
    },
    {
     "name": "stdout",
     "output_type": "stream",
     "text": [
      "Extracting data/MNIST/raw/t10k-labels-idx1-ubyte.gz to data/MNIST/raw\n",
      "\n"
     ]
    },
    {
     "name": "stderr",
     "output_type": "stream",
     "text": [
      "\n"
     ]
    }
   ],
   "execution_count": 44
  },
  {
   "metadata": {},
   "cell_type": "markdown",
   "source": "## Проверка использования GPU",
   "id": "e5bf716a49352d07"
  },
  {
   "metadata": {
    "ExecuteTime": {
     "end_time": "2024-08-09T01:45:35.341373Z",
     "start_time": "2024-08-09T01:45:35.256289Z"
    }
   },
   "cell_type": "code",
   "source": "torch.cuda.is_available()",
   "id": "fc03513a27c415e7",
   "outputs": [
    {
     "data": {
      "text/plain": [
       "True"
      ]
     },
     "execution_count": 4,
     "metadata": {},
     "output_type": "execute_result"
    }
   ],
   "execution_count": 4
  },
  {
   "metadata": {
    "ExecuteTime": {
     "end_time": "2024-08-09T01:45:35.365738Z",
     "start_time": "2024-08-09T01:45:35.343052Z"
    }
   },
   "cell_type": "code",
   "source": "torch.cuda.current_device()",
   "id": "5c0517ce9ca11a0f",
   "outputs": [
    {
     "data": {
      "text/plain": [
       "0"
      ]
     },
     "execution_count": 5,
     "metadata": {},
     "output_type": "execute_result"
    }
   ],
   "execution_count": 5
  },
  {
   "metadata": {
    "ExecuteTime": {
     "end_time": "2024-08-09T01:45:35.387626Z",
     "start_time": "2024-08-09T01:45:35.367832Z"
    }
   },
   "cell_type": "code",
   "source": "torch.cuda.get_device_name()",
   "id": "54394d3372ec86d",
   "outputs": [
    {
     "data": {
      "text/plain": [
       "'NVIDIA GeForce GTX 1070 Ti'"
      ]
     },
     "execution_count": 6,
     "metadata": {},
     "output_type": "execute_result"
    }
   ],
   "execution_count": 6
  },
  {
   "metadata": {},
   "cell_type": "markdown",
   "source": "## Подготовка модели и лоадеров",
   "id": "2ad38bcd21452d3a"
  },
  {
   "cell_type": "code",
   "id": "d794d1cf-53e2-444f-84a2-97778ef56009",
   "metadata": {
    "ExecuteTime": {
     "end_time": "2024-08-09T02:01:46.060467Z",
     "start_time": "2024-08-09T02:01:46.039402Z"
    }
   },
   "source": [
    "batch_size = 64\n",
    "train_loader = DataLoader(train_data, batch_size=batch_size)\n",
    "test_loader = DataLoader(test_data, batch_size=batch_size)"
   ],
   "outputs": [],
   "execution_count": 45
  },
  {
   "cell_type": "code",
   "id": "8bc55a57-ea68-40dc-bc8e-4f8d749027e5",
   "metadata": {
    "ExecuteTime": {
     "end_time": "2024-08-09T02:32:36.628164Z",
     "start_time": "2024-08-09T02:32:36.573888Z"
    }
   },
   "source": [
    "from model.lenet5 import LeNet5\n",
    "from torch.optim import SGD\n",
    "from torch.nn import CrossEntropyLoss\n",
    "from evaluation.evaluator import ClassificationEvaluator, Logger\n",
    "from evaluation.metrics import Metric\n",
    "\n",
    "model = LeNet5()\n",
    "optimizer = SGD(model.parameters(), lr=0.1, momentum=0.9)\n",
    "loss_fn = CrossEntropyLoss()\n",
    "evaluator = ClassificationEvaluator(freq=1000)\n",
    "logger = Logger([Metric.Accuracy])"
   ],
   "outputs": [],
   "execution_count": 70
  },
  {
   "cell_type": "code",
   "id": "9a01a604-6dda-4fa0-87b0-28a85e682f07",
   "metadata": {
    "ExecuteTime": {
     "end_time": "2024-08-09T02:32:37.865695Z",
     "start_time": "2024-08-09T02:32:37.805040Z"
    }
   },
   "source": [
    "from trainer.supervised import ClassificationTrainer\n",
    "\n",
    "trainer = ClassificationTrainer(model, train_loader, test_loader, loss_fn, optimizer, evaluator, logger)"
   ],
   "outputs": [],
   "execution_count": 71
  },
  {
   "metadata": {},
   "cell_type": "markdown",
   "source": "# Обучение",
   "id": "168f1b07358f4fad"
  },
  {
   "metadata": {},
   "cell_type": "markdown",
   "source": "# Тестирование",
   "id": "804ed474f234296f"
  },
  {
   "metadata": {
    "ExecuteTime": {
     "end_time": "2024-08-09T02:48:23.424214Z",
     "start_time": "2024-08-09T02:48:13.847069Z"
    }
   },
   "cell_type": "code",
   "source": [
    "epochs = 1\n",
    "\n",
    "for epoch in range(epochs):\n",
    "    trainer.train()"
   ],
   "id": "c7a8e84e2ee7f075",
   "outputs": [
    {
     "name": "stdout",
     "output_type": "stream",
     "text": [
      "Iteration 81000: Metric.GT:10000,Metric.TP:9882,Metric.Accuracy:0.988,Metric.loss:0.023\n"
     ]
    }
   ],
   "execution_count": 75
  },
  {
   "metadata": {
    "ExecuteTime": {
     "end_time": "2024-08-09T02:48:24.383934Z",
     "start_time": "2024-08-09T02:48:24.358047Z"
    }
   },
   "cell_type": "code",
   "source": "trainer.logger.log",
   "id": "8c8f4b0abe974113",
   "outputs": [
    {
     "data": {
      "text/plain": [
       "       Metric.loss  Metric.Accuracy\n",
       "0         0.036148           0.1009\n",
       "1000      0.036132           0.1135\n",
       "2000      0.036131           0.1135\n",
       "3000      0.036131           0.1135\n",
       "4000      0.036130           0.1135\n",
       "...            ...              ...\n",
       "77000     0.023147           0.9869\n",
       "78000     0.023138           0.9876\n",
       "79000     0.023130           0.9879\n",
       "80000     0.023131           0.9883\n",
       "81000     0.023131           0.9882\n",
       "\n",
       "[82 rows x 2 columns]"
      ],
      "text/html": [
       "<div>\n",
       "<style scoped>\n",
       "    .dataframe tbody tr th:only-of-type {\n",
       "        vertical-align: middle;\n",
       "    }\n",
       "\n",
       "    .dataframe tbody tr th {\n",
       "        vertical-align: top;\n",
       "    }\n",
       "\n",
       "    .dataframe thead th {\n",
       "        text-align: right;\n",
       "    }\n",
       "</style>\n",
       "<table border=\"1\" class=\"dataframe\">\n",
       "  <thead>\n",
       "    <tr style=\"text-align: right;\">\n",
       "      <th></th>\n",
       "      <th>Metric.loss</th>\n",
       "      <th>Metric.Accuracy</th>\n",
       "    </tr>\n",
       "  </thead>\n",
       "  <tbody>\n",
       "    <tr>\n",
       "      <th>0</th>\n",
       "      <td>0.036148</td>\n",
       "      <td>0.1009</td>\n",
       "    </tr>\n",
       "    <tr>\n",
       "      <th>1000</th>\n",
       "      <td>0.036132</td>\n",
       "      <td>0.1135</td>\n",
       "    </tr>\n",
       "    <tr>\n",
       "      <th>2000</th>\n",
       "      <td>0.036131</td>\n",
       "      <td>0.1135</td>\n",
       "    </tr>\n",
       "    <tr>\n",
       "      <th>3000</th>\n",
       "      <td>0.036131</td>\n",
       "      <td>0.1135</td>\n",
       "    </tr>\n",
       "    <tr>\n",
       "      <th>4000</th>\n",
       "      <td>0.036130</td>\n",
       "      <td>0.1135</td>\n",
       "    </tr>\n",
       "    <tr>\n",
       "      <th>...</th>\n",
       "      <td>...</td>\n",
       "      <td>...</td>\n",
       "    </tr>\n",
       "    <tr>\n",
       "      <th>77000</th>\n",
       "      <td>0.023147</td>\n",
       "      <td>0.9869</td>\n",
       "    </tr>\n",
       "    <tr>\n",
       "      <th>78000</th>\n",
       "      <td>0.023138</td>\n",
       "      <td>0.9876</td>\n",
       "    </tr>\n",
       "    <tr>\n",
       "      <th>79000</th>\n",
       "      <td>0.023130</td>\n",
       "      <td>0.9879</td>\n",
       "    </tr>\n",
       "    <tr>\n",
       "      <th>80000</th>\n",
       "      <td>0.023131</td>\n",
       "      <td>0.9883</td>\n",
       "    </tr>\n",
       "    <tr>\n",
       "      <th>81000</th>\n",
       "      <td>0.023131</td>\n",
       "      <td>0.9882</td>\n",
       "    </tr>\n",
       "  </tbody>\n",
       "</table>\n",
       "<p>82 rows × 2 columns</p>\n",
       "</div>"
      ]
     },
     "execution_count": 76,
     "metadata": {},
     "output_type": "execute_result"
    }
   ],
   "execution_count": 76
  }
 ],
 "metadata": {
  "kernelspec": {
   "display_name": "Python 3 (ipykernel)",
   "language": "python",
   "name": "python3"
  },
  "language_info": {
   "codemirror_mode": {
    "name": "ipython",
    "version": 3
   },
   "file_extension": ".py",
   "mimetype": "text/x-python",
   "name": "python",
   "nbconvert_exporter": "python",
   "pygments_lexer": "ipython3",
   "version": "3.11.9"
  }
 },
 "nbformat": 4,
 "nbformat_minor": 5
}
