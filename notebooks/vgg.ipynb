{
 "cells": [
  {
   "metadata": {
    "ExecuteTime": {
     "end_time": "2024-09-07T12:36:02.346353Z",
     "start_time": "2024-09-07T12:36:02.297908Z"
    }
   },
   "cell_type": "code",
   "source": [
    "%load_ext autoreload\n",
    "%autoreload 2"
   ],
   "id": "c925a41328da1418",
   "outputs": [
    {
     "name": "stdout",
     "output_type": "stream",
     "text": [
      "The autoreload extension is already loaded. To reload it, use:\n",
      "  %reload_ext autoreload\n"
     ]
    }
   ],
   "execution_count": 8
  },
  {
   "metadata": {},
   "cell_type": "markdown",
   "source": "# CIFAR-10",
   "id": "ebe4d6b2bd3af288"
  },
  {
   "metadata": {},
   "cell_type": "markdown",
   "source": "## VGG-16",
   "id": "7cf371d07012e765"
  },
  {
   "metadata": {
    "ExecuteTime": {
     "end_time": "2024-09-07T12:36:03.290434Z",
     "start_time": "2024-09-07T12:36:02.432991Z"
    }
   },
   "cell_type": "code",
   "source": [
    "from torchvision.datasets import CIFAR10\n",
    "from torchvision import transforms\n",
    "\n",
    "train_transforms = transforms.Compose([transforms.ToTensor(),\n",
    "                                transforms.RandomResizedCrop(size=(224, 224), scale=(0.9, 1.0)),\n",
    "                                transforms.RandomHorizontalFlip()])\n",
    "test_trainsorms = transforms.Compose([transforms.ToTensor(),\n",
    "                                      transforms.Resize((224, 224))])\n",
    "\n",
    "train_dataset = CIFAR10(root='../dataset/cifar10',\n",
    "                        train=True,\n",
    "                        transform=train_transforms,\n",
    "                        download=False)\n",
    "test_dataset = CIFAR10(root='../dataset/cifar10',\n",
    "                       train=False,\n",
    "                       transform=test_trainsorms,\n",
    "                       download=False)"
   ],
   "id": "9476cc14298119cb",
   "outputs": [],
   "execution_count": 9
  },
  {
   "metadata": {
    "ExecuteTime": {
     "end_time": "2024-09-07T12:36:03.326290Z",
     "start_time": "2024-09-07T12:36:03.304055Z"
    }
   },
   "cell_type": "code",
   "source": [
    "from torch.utils.data import DataLoader\n",
    "\n",
    "batch_size = 32\n",
    "train_loader = DataLoader(dataset=train_dataset, batch_size=batch_size, shuffle=True)\n",
    "test_loader = DataLoader(dataset=test_dataset, batch_size=batch_size, shuffle=True)"
   ],
   "id": "7d5aa47710526aca",
   "outputs": [],
   "execution_count": 10
  },
  {
   "metadata": {
    "ExecuteTime": {
     "end_time": "2024-09-07T12:36:04.317153Z",
     "start_time": "2024-09-07T12:36:03.352960Z"
    }
   },
   "cell_type": "code",
   "source": [
    "from model.vgg import VGG16, VGG19\n",
    "from torch.optim import Adam\n",
    "from torch.optim.lr_scheduler import ExponentialLR\n",
    "from torch.nn import CrossEntropyLoss\n",
    "from evaluation.metrics import Metric\n",
    "from evaluation.eval import ClassificationEvaluator\n",
    "\n",
    "model = VGG16(10)\n",
    "optimizer = Adam(model.parameters(), lr=1e-2, betas=(0.9, 0.98), eps=1e-9, weight_decay=5e-4)\n",
    "scheduler = ExponentialLR(optimizer, gamma=0.9)\n",
    "loss_fn = CrossEntropyLoss()\n",
    "metrics = [Metric.Accuracy, ]\n",
    "evaluator = ClassificationEvaluator(metrics)"
   ],
   "id": "54add51ee5f8248f",
   "outputs": [],
   "execution_count": 11
  },
  {
   "metadata": {
    "ExecuteTime": {
     "end_time": "2024-09-07T12:36:04.564411Z",
     "start_time": "2024-09-07T12:36:04.332658Z"
    }
   },
   "cell_type": "code",
   "source": [
    "from trainer.supervised import SimpleTrainer\n",
    "\n",
    "trainer = SimpleTrainer(model, train_loader, test_loader, loss_fn=loss_fn, optimizer=optimizer, evaluator=evaluator, eval_freq=3000)"
   ],
   "id": "9900df10fdde492e",
   "outputs": [],
   "execution_count": 12
  },
  {
   "metadata": {
    "jupyter": {
     "is_executing": true
    },
    "ExecuteTime": {
     "start_time": "2024-09-07T12:36:04.578708Z"
    }
   },
   "cell_type": "code",
   "source": [
    "epochs = 10\n",
    "\n",
    "for epoch in range(epochs):\n",
    "    trainer.train()\n",
    "    scheduler.step()"
   ],
   "id": "377a33c0e5321222",
   "outputs": [],
   "execution_count": null
  }
 ],
 "metadata": {
  "kernelspec": {
   "display_name": "Python 3",
   "language": "python",
   "name": "python3"
  },
  "language_info": {
   "codemirror_mode": {
    "name": "ipython",
    "version": 2
   },
   "file_extension": ".py",
   "mimetype": "text/x-python",
   "name": "python",
   "nbconvert_exporter": "python",
   "pygments_lexer": "ipython2",
   "version": "2.7.6"
  }
 },
 "nbformat": 4,
 "nbformat_minor": 5
}
